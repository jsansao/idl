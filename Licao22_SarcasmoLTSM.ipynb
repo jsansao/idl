{
  "cells": [
    {
      "cell_type": "markdown",
      "metadata": {
        "id": "view-in-github",
        "colab_type": "text"
      },
      "source": [
        "<a href=\"https://colab.research.google.com/github/jsansao/idl/blob/main/Licao22_SarcasmoLTSM.ipynb\" target=\"_parent\"><img src=\"https://colab.research.google.com/assets/colab-badge.svg\" alt=\"Open In Colab\"/></a>"
      ]
    },
    {
      "cell_type": "code",
      "execution_count": null,
      "metadata": {
        "id": "zX4Kg8DUTKWO"
      },
      "outputs": [],
      "source": [
        "#@title Licensed under the Apache License, Version 2.0 (the \"License\");\n",
        "# you may not use this file except in compliance with the License.\n",
        "# You may obtain a copy of the License at\n",
        "#\n",
        "# https://www.apache.org/licenses/LICENSE-2.0\n",
        "#\n",
        "# Unless required by applicable law or agreed to in writing, software\n",
        "# distributed under the License is distributed on an \"AS IS\" BASIS,\n",
        "# WITHOUT WARRANTIES OR CONDITIONS OF ANY KIND, either express or implied.\n",
        "# See the License for the specific language governing permissions and\n",
        "# limitations under the License."
      ]
    },
    {
      "cell_type": "markdown",
      "metadata": {
        "id": "ZektQhofQ3uG"
      },
      "source": [
        "<a href=\"https://colab.research.google.com/github/lmoroney/dlaicourse/blob/master/TensorFlow%20In%20Practice/Course%203%20-%20NLP/Course%203%20-%20Week%203%20-%20Lesson%202.ipynb\" target=\"_parent\"><img src=\"https://colab.research.google.com/assets/colab-badge.svg\" alt=\"Open In Colab\"/></a>"
      ]
    },
    {
      "cell_type": "code",
      "execution_count": null,
      "metadata": {
        "colab": {
          "base_uri": "https://localhost:8080/"
        },
        "id": "jGwXGIXvFhXW",
        "outputId": "aeaa9f9b-db4d-42aa-cd3b-6f424e60c425"
      },
      "outputs": [
        {
          "output_type": "stream",
          "name": "stdout",
          "text": [
            "--2022-05-18 18:11:21--  https://storage.googleapis.com/laurencemoroney-blog.appspot.com/sarcasm.json\n",
            "Resolving storage.googleapis.com (storage.googleapis.com)... 209.85.147.128, 142.250.125.128, 142.250.136.128, ...\n",
            "Connecting to storage.googleapis.com (storage.googleapis.com)|209.85.147.128|:443... connected.\n",
            "HTTP request sent, awaiting response... 200 OK\n",
            "Length: 5643545 (5.4M) [application/json]\n",
            "Saving to: ‘/tmp/sarcasm.json’\n",
            "\n",
            "\r/tmp/sarcasm.json     0%[                    ]       0  --.-KB/s               \r/tmp/sarcasm.json   100%[===================>]   5.38M  --.-KB/s    in 0.07s   \n",
            "\n",
            "2022-05-18 18:11:21 (72.3 MB/s) - ‘/tmp/sarcasm.json’ saved [5643545/5643545]\n",
            "\n",
            "Model: \"sequential\"\n",
            "_________________________________________________________________\n",
            " Layer (type)                Output Shape              Param #   \n",
            "=================================================================\n",
            " embedding (Embedding)       (None, 120, 16)           16000     \n",
            "                                                                 \n",
            " bidirectional (Bidirectiona  (None, 64)               12544     \n",
            " l)                                                              \n",
            "                                                                 \n",
            " dense (Dense)               (None, 24)                1560      \n",
            "                                                                 \n",
            " dense_1 (Dense)             (None, 1)                 25        \n",
            "                                                                 \n",
            "=================================================================\n",
            "Total params: 30,129\n",
            "Trainable params: 30,129\n",
            "Non-trainable params: 0\n",
            "_________________________________________________________________\n",
            "Epoch 1/50\n",
            "625/625 [==============================] - 49s 66ms/step - loss: 0.4485 - accuracy: 0.7754 - val_loss: 0.3932 - val_accuracy: 0.8141\n",
            "Epoch 2/50\n",
            "625/625 [==============================] - 40s 63ms/step - loss: 0.3554 - accuracy: 0.8370 - val_loss: 0.3748 - val_accuracy: 0.8243\n",
            "Epoch 3/50\n",
            "625/625 [==============================] - 39s 63ms/step - loss: 0.3304 - accuracy: 0.8479 - val_loss: 0.3740 - val_accuracy: 0.8304\n",
            "Epoch 4/50\n",
            "625/625 [==============================] - 39s 63ms/step - loss: 0.3121 - accuracy: 0.8598 - val_loss: 0.3735 - val_accuracy: 0.8307\n",
            "Epoch 5/50\n",
            "625/625 [==============================] - 39s 62ms/step - loss: 0.3007 - accuracy: 0.8669 - val_loss: 0.3784 - val_accuracy: 0.8322\n",
            "Epoch 6/50\n",
            "625/625 [==============================] - 39s 62ms/step - loss: 0.2915 - accuracy: 0.8712 - val_loss: 0.3776 - val_accuracy: 0.8308\n",
            "Epoch 7/50\n",
            "625/625 [==============================] - 39s 63ms/step - loss: 0.2829 - accuracy: 0.8746 - val_loss: 0.3826 - val_accuracy: 0.8340\n",
            "Epoch 8/50\n",
            "625/625 [==============================] - 40s 63ms/step - loss: 0.2760 - accuracy: 0.8790 - val_loss: 0.3857 - val_accuracy: 0.8332\n",
            "Epoch 9/50\n",
            "625/625 [==============================] - 40s 63ms/step - loss: 0.2677 - accuracy: 0.8820 - val_loss: 0.3945 - val_accuracy: 0.8277\n",
            "Epoch 10/50\n",
            "625/625 [==============================] - 39s 63ms/step - loss: 0.2610 - accuracy: 0.8836 - val_loss: 0.4039 - val_accuracy: 0.8295\n",
            "Epoch 11/50\n",
            "625/625 [==============================] - 39s 63ms/step - loss: 0.2536 - accuracy: 0.8891 - val_loss: 0.3999 - val_accuracy: 0.8264\n",
            "Epoch 12/50\n",
            "625/625 [==============================] - 39s 63ms/step - loss: 0.2466 - accuracy: 0.8916 - val_loss: 0.4080 - val_accuracy: 0.8252\n",
            "Epoch 13/50\n",
            "625/625 [==============================] - 40s 63ms/step - loss: 0.2386 - accuracy: 0.8968 - val_loss: 0.4327 - val_accuracy: 0.8204\n",
            "Epoch 14/50\n",
            "625/625 [==============================] - 40s 64ms/step - loss: 0.2325 - accuracy: 0.8987 - val_loss: 0.4358 - val_accuracy: 0.8231\n",
            "Epoch 15/50\n",
            "625/625 [==============================] - 39s 63ms/step - loss: 0.2255 - accuracy: 0.9043 - val_loss: 0.4413 - val_accuracy: 0.8213\n",
            "Epoch 16/50\n",
            "625/625 [==============================] - 39s 63ms/step - loss: 0.2196 - accuracy: 0.9071 - val_loss: 0.4534 - val_accuracy: 0.8217\n",
            "Epoch 17/50\n",
            "625/625 [==============================] - 39s 63ms/step - loss: 0.2127 - accuracy: 0.9093 - val_loss: 0.4820 - val_accuracy: 0.8190\n",
            "Epoch 18/50\n",
            "625/625 [==============================] - 39s 63ms/step - loss: 0.2066 - accuracy: 0.9129 - val_loss: 0.5221 - val_accuracy: 0.8192\n",
            "Epoch 19/50\n",
            "625/625 [==============================] - 40s 63ms/step - loss: 0.1989 - accuracy: 0.9177 - val_loss: 0.5352 - val_accuracy: 0.8138\n",
            "Epoch 20/50\n",
            "625/625 [==============================] - 39s 63ms/step - loss: 0.1921 - accuracy: 0.9204 - val_loss: 0.5602 - val_accuracy: 0.8173\n",
            "Epoch 21/50\n",
            "625/625 [==============================] - 39s 63ms/step - loss: 0.1855 - accuracy: 0.9236 - val_loss: 0.5970 - val_accuracy: 0.8132\n",
            "Epoch 22/50\n",
            "625/625 [==============================] - 39s 63ms/step - loss: 0.1771 - accuracy: 0.9265 - val_loss: 0.6220 - val_accuracy: 0.8074\n",
            "Epoch 23/50\n",
            "625/625 [==============================] - 40s 63ms/step - loss: 0.1761 - accuracy: 0.9275 - val_loss: 0.6417 - val_accuracy: 0.8083\n",
            "Epoch 24/50\n",
            "625/625 [==============================] - 39s 63ms/step - loss: 0.1653 - accuracy: 0.9319 - val_loss: 0.6861 - val_accuracy: 0.8117\n",
            "Epoch 25/50\n",
            "625/625 [==============================] - 39s 63ms/step - loss: 0.1588 - accuracy: 0.9345 - val_loss: 0.7481 - val_accuracy: 0.8064\n",
            "Epoch 26/50\n",
            "625/625 [==============================] - 39s 63ms/step - loss: 0.1553 - accuracy: 0.9355 - val_loss: 0.7363 - val_accuracy: 0.8061\n",
            "Epoch 27/50\n",
            "625/625 [==============================] - 40s 63ms/step - loss: 0.1478 - accuracy: 0.9388 - val_loss: 0.7414 - val_accuracy: 0.8040\n",
            "Epoch 28/50\n",
            "625/625 [==============================] - 40s 64ms/step - loss: 0.1397 - accuracy: 0.9424 - val_loss: 0.8573 - val_accuracy: 0.8050\n",
            "Epoch 29/50\n",
            "625/625 [==============================] - 40s 64ms/step - loss: 0.1361 - accuracy: 0.9433 - val_loss: 0.8642 - val_accuracy: 0.8046\n",
            "Epoch 30/50\n",
            "625/625 [==============================] - 40s 64ms/step - loss: 0.1283 - accuracy: 0.9464 - val_loss: 0.9944 - val_accuracy: 0.8067\n",
            "Epoch 31/50\n",
            "625/625 [==============================] - 40s 63ms/step - loss: 0.1274 - accuracy: 0.9462 - val_loss: 0.9957 - val_accuracy: 0.8000\n",
            "Epoch 32/50\n",
            "625/625 [==============================] - 40s 63ms/step - loss: 0.1179 - accuracy: 0.9506 - val_loss: 1.0545 - val_accuracy: 0.8032\n",
            "Epoch 33/50\n",
            "625/625 [==============================] - 40s 63ms/step - loss: 0.1149 - accuracy: 0.9518 - val_loss: 1.0931 - val_accuracy: 0.8034\n",
            "Epoch 34/50\n",
            "625/625 [==============================] - 39s 63ms/step - loss: 0.1118 - accuracy: 0.9513 - val_loss: 1.1797 - val_accuracy: 0.7986\n",
            "Epoch 35/50\n",
            "625/625 [==============================] - 40s 63ms/step - loss: 0.1056 - accuracy: 0.9560 - val_loss: 1.1925 - val_accuracy: 0.8016\n",
            "Epoch 36/50\n",
            "625/625 [==============================] - 40s 63ms/step - loss: 0.1036 - accuracy: 0.9562 - val_loss: 1.2270 - val_accuracy: 0.8053\n",
            "Epoch 37/50\n",
            "625/625 [==============================] - 39s 63ms/step - loss: 0.0952 - accuracy: 0.9592 - val_loss: 1.3191 - val_accuracy: 0.7995\n",
            "Epoch 38/50\n",
            "625/625 [==============================] - 39s 63ms/step - loss: 0.0939 - accuracy: 0.9597 - val_loss: 1.4003 - val_accuracy: 0.8061\n",
            "Epoch 39/50\n",
            "625/625 [==============================] - 39s 63ms/step - loss: 0.0987 - accuracy: 0.9584 - val_loss: 1.2672 - val_accuracy: 0.8000\n",
            "Epoch 40/50\n",
            "625/625 [==============================] - 39s 63ms/step - loss: 0.0896 - accuracy: 0.9613 - val_loss: 1.3640 - val_accuracy: 0.8001\n",
            "Epoch 41/50\n",
            "625/625 [==============================] - 39s 63ms/step - loss: 0.0852 - accuracy: 0.9626 - val_loss: 1.3997 - val_accuracy: 0.7980\n",
            "Epoch 42/50\n",
            "625/625 [==============================] - 40s 63ms/step - loss: 0.0829 - accuracy: 0.9631 - val_loss: 1.4983 - val_accuracy: 0.7915\n",
            "Epoch 43/50\n",
            "625/625 [==============================] - 39s 63ms/step - loss: 0.0809 - accuracy: 0.9649 - val_loss: 1.5121 - val_accuracy: 0.7974\n",
            "Epoch 44/50\n",
            "625/625 [==============================] - 39s 63ms/step - loss: 0.0796 - accuracy: 0.9643 - val_loss: 1.4705 - val_accuracy: 0.7913\n",
            "Epoch 45/50\n",
            "625/625 [==============================] - 40s 63ms/step - loss: 0.0747 - accuracy: 0.9657 - val_loss: 1.6319 - val_accuracy: 0.7970\n",
            "Epoch 46/50\n",
            "625/625 [==============================] - 39s 63ms/step - loss: 0.0709 - accuracy: 0.9681 - val_loss: 1.7722 - val_accuracy: 0.7918\n",
            "Epoch 47/50\n",
            "625/625 [==============================] - 40s 63ms/step - loss: 0.0756 - accuracy: 0.9660 - val_loss: 1.7453 - val_accuracy: 0.7986\n",
            "Epoch 48/50\n",
            "625/625 [==============================] - 40s 63ms/step - loss: 0.0726 - accuracy: 0.9678 - val_loss: 1.7302 - val_accuracy: 0.7971\n",
            "Epoch 49/50\n",
            "625/625 [==============================] - 39s 63ms/step - loss: 0.0663 - accuracy: 0.9683 - val_loss: 1.7921 - val_accuracy: 0.7948\n",
            "Epoch 50/50\n",
            "625/625 [==============================] - 39s 63ms/step - loss: 0.0651 - accuracy: 0.9704 - val_loss: 1.7655 - val_accuracy: 0.7985\n"
          ]
        }
      ],
      "source": [
        "import numpy as np\n",
        "\n",
        "import json\n",
        "import tensorflow as tf\n",
        "\n",
        "from tensorflow.keras.preprocessing.text import Tokenizer\n",
        "from tensorflow.keras.preprocessing.sequence import pad_sequences\n",
        "\n",
        "!wget --no-check-certificate \\\n",
        "    https://storage.googleapis.com/laurencemoroney-blog.appspot.com/sarcasm.json \\\n",
        "    -O /tmp/sarcasm.json\n",
        "\n",
        "vocab_size = 1000\n",
        "embedding_dim = 16\n",
        "max_length = 120\n",
        "trunc_type='post'\n",
        "padding_type='post'\n",
        "oov_tok = \"<OOV>\"\n",
        "training_size = 20000\n",
        "\n",
        "\n",
        "with open(\"/tmp/sarcasm.json\", 'r') as f:\n",
        "    datastore = json.load(f)\n",
        "\n",
        "\n",
        "sentences = []\n",
        "labels = []\n",
        "urls = []\n",
        "for item in datastore:\n",
        "    sentences.append(item['headline'])\n",
        "    labels.append(item['is_sarcastic'])\n",
        "\n",
        "training_sentences = sentences[0:training_size]\n",
        "testing_sentences = sentences[training_size:]\n",
        "training_labels = labels[0:training_size]\n",
        "testing_labels = labels[training_size:]\n",
        "\n",
        "tokenizer = Tokenizer(num_words=vocab_size, oov_token=oov_tok)\n",
        "tokenizer.fit_on_texts(training_sentences)\n",
        "\n",
        "word_index = tokenizer.word_index\n",
        "\n",
        "training_sequences = tokenizer.texts_to_sequences(training_sentences)\n",
        "training_padded = pad_sequences(training_sequences, maxlen=max_length, padding=padding_type, truncating=trunc_type)\n",
        "\n",
        "testing_sequences = tokenizer.texts_to_sequences(testing_sentences)\n",
        "testing_padded = pad_sequences(testing_sequences, maxlen=max_length, padding=padding_type, truncating=trunc_type)\n",
        "\n",
        "model = tf.keras.Sequential([\n",
        "    tf.keras.layers.Embedding(vocab_size, embedding_dim, input_length=max_length),\n",
        "    tf.keras.layers.Bidirectional(tf.keras.layers.LSTM(32)),\n",
        "    tf.keras.layers.Dense(24, activation='relu'),\n",
        "    tf.keras.layers.Dense(1, activation='sigmoid')\n",
        "])\n",
        "model.compile(loss='binary_crossentropy',optimizer='adam',metrics=['accuracy'])\n",
        "model.summary()\n",
        "\n",
        "num_epochs = 50\n",
        "training_padded = np.array(training_padded)\n",
        "training_labels = np.array(training_labels)\n",
        "testing_padded = np.array(testing_padded)\n",
        "testing_labels = np.array(testing_labels)\n",
        "history = model.fit(training_padded, training_labels, epochs=num_epochs, validation_data=(testing_padded, testing_labels), verbose=1)\n"
      ]
    },
    {
      "cell_type": "code",
      "execution_count": null,
      "metadata": {
        "colab": {
          "base_uri": "https://localhost:8080/",
          "height": 541
        },
        "id": "g9DC6dmLF8DC",
        "outputId": "2a0a403c-d1bd-43d8-f317-a11e89c55553"
      },
      "outputs": [
        {
          "output_type": "display_data",
          "data": {
            "text/plain": [
              "<Figure size 432x288 with 1 Axes>"
            ],
            "image/png": "[encoded data removed]"
          },
          "metadata": {
            "needs_background": "light"
          }
        },
        {
          "output_type": "display_data",
          "data": {
            "text/plain": [
              "<Figure size 432x288 with 1 Axes>"
            ],
            "image/png": "[encoded data removed]"
          },
          "metadata": {
            "needs_background": "light"
          }
        }
      ],
      "source": [
        "import matplotlib.pyplot as plt\n",
        "\n",
        "\n",
        "def plot_graphs(history, string):\n",
        "  plt.plot(history.history[string])\n",
        "  plt.plot(history.history['val_'+string])\n",
        "  plt.xlabel(\"Epochs\")\n",
        "  plt.ylabel(string)\n",
        "  plt.legend([string, 'val_'+string])\n",
        "  plt.show()\n",
        "\n",
        "plot_graphs(history, 'accuracy')\n",
        "plot_graphs(history, 'loss')"
      ]
    },
    {
      "cell_type": "code",
      "execution_count": null,
      "metadata": {
        "id": "7ZEZIUppGhdi"
      },
      "outputs": [],
      "source": [
        "model.save(\"test.h5\")"
      ]
    }
  ],
  "metadata": {
    "accelerator": "GPU",
    "colab": {
      "collapsed_sections": [],
      "name": "Licao22_SarcasmoLTSM.ipynb",
      "provenance": [],
      "toc_visible": true,
      "include_colab_link": true
    },
    "kernelspec": {
      "display_name": "Python 3",
      "language": "python",
      "name": "python3"
    },
    "language_info": {
      "codemirror_mode": {
        "name": "ipython",
        "version": 3
      },
      "file_extension": ".py",
      "mimetype": "text/x-python",
      "name": "python",
      "nbconvert_exporter": "python",
      "pygments_lexer": "ipython3",
      "version": "3.7.6"
    }
  },
  "nbformat": 4,
  "nbformat_minor": 0
}
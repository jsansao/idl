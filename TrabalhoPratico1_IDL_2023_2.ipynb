{
  "nbformat": 4,
  "nbformat_minor": 0,
  "metadata": {
    "colab": {
      "provenance": [],
      "authorship_tag": "ABX9TyOCdajRTfABN7Huw//2T2wC",
      "include_colab_link": true
    },
    "kernelspec": {
      "name": "python3",
      "display_name": "Python 3"
    },
    "language_info": {
      "name": "python"
    }
  },
  "cells": [
    {
      "cell_type": "markdown",
      "metadata": {
        "id": "view-in-github",
        "colab_type": "text"
      },
      "source": [
        "<a href=\"https://colab.research.google.com/github/jsansao/idl/blob/main/TrabalhoPratico1_IDL_2023_2.ipynb\" target=\"_parent\"><img src=\"https://colab.research.google.com/assets/colab-badge.svg\" alt=\"Open In Colab\"/></a>"
      ]
    },
    {
      "cell_type": "markdown",
      "source": [
        "# Trabalho Prático 1\n",
        "\n",
        "Neste trabalho, vamos comparar diferentes métodos na classificação de dados estruturados.\n",
        "\n",
        "O problema escolhido foi a classificação de grãos secos de feijão, disponibilizado no [UCI Machine Learning Repository](https://archive.ics.uci.edu/).\n",
        "\n",
        "Mais detalhes do dataset estão no [link](https://archive.ics.uci.edu/dataset/602/dry+bean+dataset).\n",
        "\n",
        "Imagens de 13611 grãos de 7 diferentes tipos de feijão foram feita com uma câmera de alta resolução. Das imagens dos grãos foram extraídas 16 características: 12 dimensões e 4 formas.\n",
        "\n",
        "O trabalho consiste em construir um classificador para rotular os 7 tipos de feijão com base nas 16 características.\n",
        "\n",
        "O procedimento para baixar os conjuntos de treinamento e validação do repositório está desenvolvido abaixo.\n",
        "\n",
        "Você deverá:\n",
        "\n",
        "1. Obter um classificador utilizando regressão logística e determinar a respectiva acurácia de treinamento e validação.\n",
        "2. Obter um classificador utilizando SVM e determinar a respectiva acurácia.\n",
        "3. Propor uma rede neural muli-camada com desempenho próximo da SVM.  Obtenha a acurácia de treinamento e validação ao longo do treinamento da rede.\n",
        "\n",
        "A entrega será feita através do portal didático, onde você deverá compartilhar o arquivo ipynb ou link do mesmo no Colab.\n",
        "\n",
        "\n"
      ],
      "metadata": {
        "id": "oLK6HOm1kT4C"
      }
    },
    {
      "cell_type": "markdown",
      "source": [
        "## Importação do dataset"
      ],
      "metadata": {
        "id": "a75SiyPxnUMq"
      }
    },
    {
      "cell_type": "code",
      "execution_count": 1,
      "metadata": {
        "colab": {
          "base_uri": "https://localhost:8080/"
        },
        "id": "Lyau43-dnbS2",
        "outputId": "28f91bf3-0a62-451d-92f0-4a9a364da06c"
      },
      "outputs": [
        {
          "output_type": "stream",
          "name": "stdout",
          "text": [
            "Collecting ucimlrepo\n",
            "  Downloading ucimlrepo-0.0.1-py3-none-any.whl (7.0 kB)\n",
            "Installing collected packages: ucimlrepo\n",
            "Successfully installed ucimlrepo-0.0.1\n"
          ]
        }
      ],
      "source": [
        "!pip install ucimlrepo"
      ]
    },
    {
      "cell_type": "code",
      "source": [
        "from ucimlrepo import fetch_ucirepo\n",
        "\n",
        "# fetch dataset\n",
        "dry_bean_dataset = fetch_ucirepo(id=602)\n",
        "\n",
        "# data (as pandas dataframes)\n",
        "X = dry_bean_dataset.data.features\n",
        "y = dry_bean_dataset.data.targets\n",
        "\n",
        "# metadata\n",
        "print(dry_bean_dataset.metadata)\n",
        "\n",
        "# variable information\n",
        "print(dry_bean_dataset.variables)\n"
      ],
      "metadata": {
        "colab": {
          "base_uri": "https://localhost:8080/"
        },
        "id": "0XraNhx3ncV2",
        "outputId": "e043cece-0b22-40fe-f495-b566b7c237a3"
      },
      "execution_count": 2,
      "outputs": [
        {
          "output_type": "stream",
          "name": "stdout",
          "text": [
            "{'uci_id': 602, 'name': 'Dry Bean Dataset', 'repository_url': 'https://archive.ics.uci.edu/dataset/602/dry+bean+dataset', 'data_url': 'https://archive.ics.uci.edu/static/public/602/data.csv', 'abstract': 'Images of 13,611 grains of 7 different registered dry beans were taken with a high-resolution camera. A total of 16 features; 12 dimensions and 4 shape forms, were obtained from the grains.', 'area': 'Computer Science', 'tasks': ['Classification'], 'characteristics': ['Multivariate'], 'num_instances': 13611, 'num_features': 16, 'feature_types': ['Integer', 'Real'], 'demographics': [], 'target_col': ['Class'], 'index_col': None, 'has_missing_values': 'no', 'missing_values_symbol': None, 'year_of_dataset_creation': 2020, 'last_updated': 'Thu Aug 10 2023', 'dataset_doi': '10.24432/C50S4B', 'creators': [], 'intro_paper': {'title': 'Multiclass classification of dry beans using computer vision and machine learning techniques', 'authors': 'M. Koklu, Ilker Ali Özkan', 'published_in': 'Computers and Electronics in Agriculture', 'year': 2020, 'url': 'https://www.semanticscholar.org/paper/e84c31138f2f261d15517d6b6bb8922c3fe597a1', 'doi': '10.1016/j.compag.2020.105507'}, 'additional_info': {'summary': 'Seven different types of dry beans were used in this research, taking into account the features such as form, shape, type, and structure by the market situation. A computer vision system was developed to distinguish seven different registered varieties of dry beans with similar features in order to obtain uniform seed classification. For the classification model, images of 13,611 grains of 7 different registered dry beans were taken with a high-resolution camera. Bean images obtained by computer vision system were subjected to segmentation and feature extraction stages, and a total of 16 features; 12 dimensions and 4 shape forms, were obtained from the grains.', 'purpose': None, 'funded_by': None, 'instances_represent': None, 'recommended_data_splits': None, 'sensitive_data': None, 'preprocessing_description': None, 'variable_info': '1.) Area (A): The area of a bean zone and the number of pixels within its boundaries.\\r\\n2.) Perimeter (P): Bean circumference is defined as the length of its border.\\r\\n3.) Major axis length (L): The distance between the ends of the longest line that can be drawn from a bean.\\r\\n4.) Minor axis length (l): The longest line that can be drawn from the bean while standing perpendicular to the main axis.\\r\\n5.) Aspect ratio (K): Defines the relationship between L and l.\\r\\n6.) Eccentricity (Ec): Eccentricity of the ellipse having the same moments as the region.\\r\\n7.) Convex area (C): Number of pixels in the smallest convex polygon that can contain the area of a bean seed.\\r\\n8.) Equivalent diameter (Ed): The diameter of a circle having the same area as a bean seed area.\\r\\n9.) Extent (Ex): The ratio of the pixels in the bounding box to the bean area.\\r\\n10.)Solidity (S): Also known as convexity. The ratio of the pixels in the convex shell to those found in beans.\\r\\n11.)Roundness (R): Calculated with the following formula: (4piA)/(P^2)\\r\\n12.)Compactness (CO): Measures the roundness of an object: Ed/L\\r\\n13.)ShapeFactor1 (SF1)\\r\\n14.)ShapeFactor2 (SF2)\\r\\n15.)ShapeFactor3 (SF3)\\r\\n16.)ShapeFactor4 (SF4)\\r\\n17.)Class (Seker, Barbunya, Bombay, Cali, Dermosan, Horoz and Sira)\\r\\n', 'citation': None}}\n",
            "               name     role         type demographic  \\\n",
            "0              Area  Feature      Integer        None   \n",
            "1         Perimeter  Feature   Continuous        None   \n",
            "2   MajorAxisLength  Feature   Continuous        None   \n",
            "3   MinorAxisLength  Feature   Continuous        None   \n",
            "4       AspectRatio  Feature   Continuous        None   \n",
            "5      Eccentricity  Feature   Continuous        None   \n",
            "6        ConvexArea  Feature      Integer        None   \n",
            "7     EquivDiameter  Feature   Continuous        None   \n",
            "8            Extent  Feature   Continuous        None   \n",
            "9          Solidity  Feature   Continuous        None   \n",
            "10        Roundness  Feature   Continuous        None   \n",
            "11      Compactness  Feature   Continuous        None   \n",
            "12     ShapeFactor1  Feature   Continuous        None   \n",
            "13     ShapeFactor2  Feature   Continuous        None   \n",
            "14     ShapeFactor3  Feature   Continuous        None   \n",
            "15     ShapeFactor4  Feature   Continuous        None   \n",
            "16            Class   Target  Categorical        None   \n",
            "\n",
            "                                          description   units missing_values  \n",
            "0   The area of a bean zone and the number of pixe...  pixels             no  \n",
            "1   Bean circumference is defined as the length of...    None             no  \n",
            "2   The distance between the ends of the longest l...    None             no  \n",
            "3   The longest line that can be drawn from the be...    None             no  \n",
            "4   Defines the relationship between MajorAxisLeng...    None             no  \n",
            "5   Eccentricity of the ellipse having the same mo...    None             no  \n",
            "6   Number of pixels in the smallest convex polygo...    None             no  \n",
            "7   Equivalent diameter: The diameter of a circle ...    None             no  \n",
            "8   The ratio of the pixels in the bounding box to...    None             no  \n",
            "9   Also known as convexity. The ratio of the pixe...    None             no  \n",
            "10  Calculated with the following formula: (4piA)/...    None             no  \n",
            "11                Measures the roundness of an object    Ed/L             no  \n",
            "12                                               None    None             no  \n",
            "13                                               None    None             no  \n",
            "14                                               None    None             no  \n",
            "15                                               None    None             no  \n",
            "16  (Seker, Barbunya, Bombay, Cali, Dermosan, Horo...    None             no  \n"
          ]
        }
      ]
    },
    {
      "cell_type": "code",
      "source": [
        "labels = y['Class'].unique()\n",
        "string_to_index = {string: index for index, string in enumerate(labels)}\n",
        "\n",
        "z = y['Class'].map(string_to_index)"
      ],
      "metadata": {
        "id": "jySTL2iLzqWJ"
      },
      "execution_count": 3,
      "outputs": []
    },
    {
      "cell_type": "code",
      "source": [
        "from sklearn.model_selection import train_test_split"
      ],
      "metadata": {
        "id": "cWdvECsB6MYu"
      },
      "execution_count": 4,
      "outputs": []
    },
    {
      "cell_type": "code",
      "source": [
        "X_train, X_test, y_train, y_test = train_test_split(X.values, z, random_state=0)"
      ],
      "metadata": {
        "id": "CllzGU5O6N35"
      },
      "execution_count": 5,
      "outputs": []
    }
  ]
}
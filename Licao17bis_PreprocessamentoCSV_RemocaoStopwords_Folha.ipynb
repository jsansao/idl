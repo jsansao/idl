{
  "cells": [
    {
      "cell_type": "markdown",
      "metadata": {
        "id": "view-in-github",
        "colab_type": "text"
      },
      "source": [
        "<a href=\"https://colab.research.google.com/github/jsansao/idl/blob/main/Licao17bis_PreprocessamentoCSV_RemocaoStopwords_Folha.ipynb\" target=\"_parent\"><img src=\"https://colab.research.google.com/assets/colab-badge.svg\" alt=\"Open In Colab\"/></a>"
      ]
    },
    {
      "cell_type": "markdown",
      "metadata": {
        "id": "rX8mhOLljYeM"
      },
      "source": [
        "##### Copyright 2019 The TensorFlow Authors."
      ]
    },
    {
      "cell_type": "code",
      "execution_count": null,
      "metadata": {
        "cellView": "form",
        "id": "BZSlp3DAjdYf"
      },
      "outputs": [],
      "source": [
        "#@title Licensed under the Apache License, Version 2.0 (the \"License\");\n",
        "# you may not use this file except in compliance with the License.\n",
        "# You may obtain a copy of the License at\n",
        "#\n",
        "# https://www.apache.org/licenses/LICENSE-2.0\n",
        "#\n",
        "# Unless required by applicable law or agreed to in writing, software\n",
        "# distributed under the License is distributed on an \"AS IS\" BASIS,\n",
        "# WITHOUT WARRANTIES OR CONDITIONS OF ANY KIND, either express or implied.\n",
        "# See the License for the specific language governing permissions and\n",
        "# limitations under the License."
      ]
    },
    {
      "cell_type": "code",
      "execution_count": null,
      "metadata": {
        "id": "zrZevCPJ92HG",
        "colab": {
          "base_uri": "https://localhost:8080/"
        },
        "outputId": "b39c000d-d0a4-4cfd-ad5f-5ed299969837"
      },
      "outputs": [
        {
          "output_type": "stream",
          "name": "stdout",
          "text": [
            "--2022-10-24 19:58:18--  https://raw.githubusercontent.com/jsansao/corpus_ptbr/main/cetenfolha/cetenfolha_aa\n",
            "Resolving raw.githubusercontent.com (raw.githubusercontent.com)... 185.199.110.133, 185.199.108.133, 185.199.109.133, ...\n",
            "Connecting to raw.githubusercontent.com (raw.githubusercontent.com)|185.199.110.133|:443... connected.\n",
            "HTTP request sent, awaiting response... 200 OK\n",
            "Length: 3813899 (3.6M) [text/plain]\n",
            "Saving to: ‘/tmp/folha.csv’\n",
            "\n",
            "/tmp/folha.csv      100%[===================>]   3.64M  --.-KB/s    in 0.07s   \n",
            "\n",
            "2022-10-24 19:58:19 (52.8 MB/s) - ‘/tmp/folha.csv’ saved [3813899/3813899]\n",
            "\n"
          ]
        }
      ],
      "source": [
        "!wget --no-check-certificate \\\n",
        "    https://raw.githubusercontent.com/jsansao/corpus_ptbr/main/cetenfolha/cetenfolha_aa \\\n",
        "    -O /tmp/folha.csv\n",
        "\n",
        "  \n",
        "import csv\n",
        "from tensorflow.keras.preprocessing.text import Tokenizer\n",
        "from tensorflow.keras.preprocessing.sequence import pad_sequences\n",
        "\n",
        "\n",
        "\n",
        "#Stopwords list from https://github.com/stopwords-iso/stopwords-pt/blob/master/stopwords-pt.json\n",
        "\n",
        "stopwords = [\"a\",\"acerca\",\"adeus\",\"agora\",\"ainda\",\"alem\",\"algmas\",\"algo\",\"algumas\",\"alguns\",\"ali\",\"além\",\"ambas\",\"ambos\",\"ano\",\"anos\",\"antes\",\"ao\",\"aonde\",\"aos\",\"apenas\",\"apoio\",\"apontar\",\"apos\",\"após\",\"aquela\",\"aquelas\",\"aquele\",\"aqueles\",\"aqui\",\"aquilo\",\"as\",\"assim\",\"através\",\"atrás\",\"até\",\"aí\",\"baixo\",\"bastante\",\"bem\",\"boa\",\"boas\",\"bom\",\"bons\",\"breve\",\"cada\",\"caminho\",\"catorze\",\"cedo\",\"cento\",\"certamente\",\"certeza\",\"cima\",\"cinco\",\"coisa\",\"com\",\"como\",\"comprido\",\"conhecido\",\"conselho\",\"contra\",\"contudo\",\"corrente\",\"cuja\",\"cujas\",\"cujo\",\"cujos\",\"custa\",\"cá\",\"da\",\"daquela\",\"daquelas\",\"daquele\",\"daqueles\",\"dar\",\"das\",\"de\",\"debaixo\",\"dela\",\"delas\",\"dele\",\"deles\",\"demais\",\"dentro\",\"depois\",\"desde\",\"desligado\",\"dessa\",\"dessas\",\"desse\",\"desses\",\"desta\",\"destas\",\"deste\",\"destes\",\"deve\",\"devem\",\"deverá\",\"dez\",\"dezanove\",\"dezasseis\",\"dezassete\",\"dezoito\",\"dia\",\"diante\",\"direita\",\"dispoe\",\"dispoem\",\"diversa\",\"diversas\",\"diversos\",\"diz\",\"dizem\",\"dizer\",\"do\",\"dois\",\"dos\",\"doze\",\"duas\",\"durante\",\"dá\",\"dão\",\"dúvida\",\"e\",\"ela\",\"elas\",\"ele\",\"eles\",\"em\",\"embora\",\"enquanto\",\"entao\",\"entre\",\"então\",\"era\",\"eram\",\"essa\",\"essas\",\"esse\",\"esses\",\"esta\",\"estado\",\"estamos\",\"estar\",\"estará\",\"estas\",\"estava\",\"estavam\",\"este\",\"esteja\",\"estejam\",\"estejamos\",\"estes\",\"esteve\",\"estive\",\"estivemos\",\"estiver\",\"estivera\",\"estiveram\",\"estiverem\",\"estivermos\",\"estivesse\",\"estivessem\",\"estiveste\",\"estivestes\",\"estivéramos\",\"estivéssemos\",\"estou\",\"está\",\"estás\",\"estávamos\",\"estão\",\"eu\",\"exemplo\",\"falta\",\"fará\",\"favor\",\"faz\",\"fazeis\",\"fazem\",\"fazemos\",\"fazer\",\"fazes\",\"fazia\",\"faço\",\"fez\",\"fim\",\"final\",\"foi\",\"fomos\",\"for\",\"fora\",\"foram\",\"forem\",\"forma\",\"formos\",\"fosse\",\"fossem\",\"foste\",\"fostes\",\"fui\",\"fôramos\",\"fôssemos\",\"geral\",\"grande\",\"grandes\",\"grupo\",\"ha\",\"haja\",\"hajam\",\"hajamos\",\"havemos\",\"havia\",\"hei\",\"hoje\",\"hora\",\"horas\",\"houve\",\"houvemos\",\"houver\",\"houvera\",\"houveram\",\"houverei\",\"houverem\",\"houveremos\",\"houveria\",\"houveriam\",\"houvermos\",\"houverá\",\"houverão\",\"houveríamos\",\"houvesse\",\"houvessem\",\"houvéramos\",\"houvéssemos\",\"há\",\"hão\",\"iniciar\",\"inicio\",\"ir\",\"irá\",\"isso\",\"ista\",\"iste\",\"isto\",\"já\",\"lado\",\"lhe\",\"lhes\",\"ligado\",\"local\",\"logo\",\"longe\",\"lugar\",\"lá\",\"maior\",\"maioria\",\"maiorias\",\"mais\",\"mal\",\"mas\",\"me\",\"mediante\",\"meio\",\"menor\",\"menos\",\"meses\",\"mesma\",\"mesmas\",\"mesmo\",\"mesmos\",\"meu\",\"meus\",\"mil\",\"minha\",\"minhas\",\"momento\",\"muito\",\"muitos\",\"máximo\",\"mês\",\"na\",\"nada\",\"nao\",\"naquela\",\"naquelas\",\"naquele\",\"naqueles\",\"nas\",\"nem\",\"nenhuma\",\"nessa\",\"nessas\",\"nesse\",\"nesses\",\"nesta\",\"nestas\",\"neste\",\"nestes\",\"no\",\"noite\",\"nome\",\"nos\",\"nossa\",\"nossas\",\"nosso\",\"nossos\",\"nova\",\"novas\",\"nove\",\"novo\",\"novos\",\"num\",\"numa\",\"numas\",\"nunca\",\"nuns\",\"não\",\"nível\",\"nós\",\"número\",\"o\",\"obra\",\"obrigada\",\"obrigado\",\"oitava\",\"oitavo\",\"oito\",\"onde\",\"ontem\",\"onze\",\"os\",\"ou\",\"outra\",\"outras\",\"outro\",\"outros\",\"para\",\"parece\",\"parte\",\"partir\",\"paucas\",\"pegar\",\"pela\",\"pelas\",\"pelo\",\"pelos\",\"perante\",\"perto\",\"pessoas\",\"pode\",\"podem\",\"poder\",\"poderá\",\"podia\",\"pois\",\"ponto\",\"pontos\",\"por\",\"porque\",\"porquê\",\"portanto\",\"posição\",\"possivelmente\",\"posso\",\"possível\",\"pouca\",\"pouco\",\"poucos\",\"povo\",\"primeira\",\"primeiras\",\"primeiro\",\"primeiros\",\"promeiro\",\"propios\",\"proprio\",\"própria\",\"próprias\",\"próprio\",\"próprios\",\"próxima\",\"próximas\",\"próximo\",\"próximos\",\"puderam\",\"pôde\",\"põe\",\"põem\",\"quais\",\"qual\",\"qualquer\",\"quando\",\"quanto\",\"quarta\",\"quarto\",\"quatro\",\"que\",\"quem\",\"quer\",\"quereis\",\"querem\",\"queremas\",\"queres\",\"quero\",\"questão\",\"quieto\",\"quinta\",\"quinto\",\"quinze\",\"quáis\",\"quê\",\"relação\",\"sabe\",\"sabem\",\"saber\",\"se\",\"segunda\",\"segundo\",\"sei\",\"seis\",\"seja\",\"sejam\",\"sejamos\",\"sem\",\"sempre\",\"sendo\",\"ser\",\"serei\",\"seremos\",\"seria\",\"seriam\",\"será\",\"serão\",\"seríamos\",\"sete\",\"seu\",\"seus\",\"sexta\",\"sexto\",\"sim\",\"sistema\",\"sob\",\"sobre\",\"sois\",\"somente\",\"somos\",\"sou\",\"sua\",\"suas\",\"são\",\"sétima\",\"sétimo\",\"só\",\"tal\",\"talvez\",\"tambem\",\"também\",\"tanta\",\"tantas\",\"tanto\",\"tarde\",\"te\",\"tem\",\"temos\",\"tempo\",\"tendes\",\"tenha\",\"tenham\",\"tenhamos\",\"tenho\",\"tens\",\"tentar\",\"tentaram\",\"tente\",\"tentei\",\"ter\",\"terceira\",\"terceiro\",\"terei\",\"teremos\",\"teria\",\"teriam\",\"terá\",\"terão\",\"teríamos\",\"teu\",\"teus\",\"teve\",\"tinha\",\"tinham\",\"tipo\",\"tive\",\"tivemos\",\"tiver\",\"tivera\",\"tiveram\",\"tiverem\",\"tivermos\",\"tivesse\",\"tivessem\",\"tiveste\",\"tivestes\",\"tivéramos\",\"tivéssemos\",\"toda\",\"todas\",\"todo\",\"todos\",\"trabalhar\",\"trabalho\",\"treze\",\"três\",\"tu\",\"tua\",\"tuas\",\"tudo\",\"tão\",\"tém\",\"têm\",\"tínhamos\",\"um\",\"uma\",\"umas\",\"uns\",\"usa\",\"usar\",\"vai\",\"vais\",\"valor\",\"veja\",\"vem\",\"vens\",\"ver\",\"verdade\",\"verdadeiro\",\"vez\",\"vezes\",\"viagem\",\"vindo\",\"vinte\",\"você\",\"vocês\",\"vos\",\"vossa\",\"vossas\",\"vosso\",\"vossos\",\"vários\",\"vão\",\"vêm\",\"vós\",\"zero\",\"à\",\"às\",\"área\",\"é\",\"éramos\",\"és\",\"último\"]"
      ]
    },
    {
      "cell_type": "code",
      "source": [
        "len(stopwords)"
      ],
      "metadata": {
        "id": "Rr2Eac59jRDd",
        "outputId": "5d59ddee-ace7-42a0-dcb9-fbb2707144c8",
        "colab": {
          "base_uri": "https://localhost:8080/"
        }
      },
      "execution_count": null,
      "outputs": [
        {
          "output_type": "execute_result",
          "data": {
            "text/plain": [
              "560"
            ]
          },
          "metadata": {},
          "execution_count": 8
        }
      ]
    },
    {
      "cell_type": "code",
      "execution_count": null,
      "metadata": {
        "id": "1rmYBjsyCv3K",
        "colab": {
          "base_uri": "https://localhost:8080/"
        },
        "outputId": "4ca6ef94-6bb1-4507-d342-ad3b25b97971"
      },
      "outputs": [
        {
          "output_type": "stream",
          "name": "stdout",
          "text": [
            "40226\n",
            " Gilberto Dimenstein \n"
          ]
        }
      ],
      "source": [
        "sentences = []\n",
        "\n",
        "with open(\"/tmp/folha.csv\", 'r') as csvfile:\n",
        "    reader = csv.reader(csvfile, delimiter='\\n')\n",
        "    next(reader)\n",
        "    for row in reader:\n",
        "        sentence = row[0]\n",
        "        for word in stopwords:\n",
        "            token = \" \" + word + \" \"\n",
        "            sentence = sentence.replace(token, \" \")\n",
        "            sentence = sentence.replace(\"  \", \" \")\n",
        "        sentences.append(sentence)\n",
        "\n",
        "\n",
        "\n"
      ]
    },
    {
      "cell_type": "code",
      "source": [
        "print(len(sentences))\n",
        "\n",
        "#original:  Desde o último dia 13, «Confissões de Adolescente» pode ser vista pelos teens portugueses . \n",
        "print(sentences[8])"
      ],
      "metadata": {
        "id": "H8Avgp6QlilL",
        "outputId": "d2ef0ff0-9133-4483-b062-9c69dfd61484",
        "colab": {
          "base_uri": "https://localhost:8080/"
        }
      },
      "execution_count": null,
      "outputs": [
        {
          "output_type": "stream",
          "name": "stdout",
          "text": [
            "40226\n",
            " Desde 13, «Confissões Adolescente» vista teens portugueses . \n"
          ]
        }
      ]
    },
    {
      "cell_type": "code",
      "execution_count": null,
      "metadata": {
        "id": "9LhzBBgSC3S5",
        "colab": {
          "base_uri": "https://localhost:8080/"
        },
        "outputId": "b6a65327-a15c-4cf0-ef1c-066a8ce7bfa5"
      },
      "outputs": [
        {
          "output_type": "stream",
          "name": "stdout",
          "text": [
            "48875\n"
          ]
        }
      ],
      "source": [
        "tokenizer = Tokenizer(oov_token=\"<OOV>\")\n",
        "tokenizer.fit_on_texts(sentences)\n",
        "word_index = tokenizer.word_index\n",
        "print(len(word_index))\n"
      ]
    },
    {
      "cell_type": "code",
      "execution_count": null,
      "metadata": {
        "id": "1Gr3dbQfC5VR",
        "colab": {
          "base_uri": "https://localhost:8080/"
        },
        "outputId": "bd33e385-cbb9-408a-a526-b2c9a99f61ab"
      },
      "outputs": [
        {
          "output_type": "stream",
          "name": "stdout",
          "text": [
            "[  930   271 13007 13008   664  5437  8117     0     0     0     0     0\n",
            "     0     0     0     0     0     0     0     0     0     0     0     0\n",
            "     0     0     0     0     0     0     0     0     0     0     0     0\n",
            "     0     0     0     0     0     0     0     0     0     0     0     0\n",
            "     0     0     0     0     0     0     0     0     0     0     0     0\n",
            "     0     0     0     0     0     0     0     0     0     0     0     0\n",
            "     0     0     0     0     0     0     0     0     0     0     0]\n",
            "(40226, 83)\n"
          ]
        }
      ],
      "source": [
        "sequences = tokenizer.texts_to_sequences(sentences)\n",
        "padded = pad_sequences(sequences, padding='post')\n",
        "print(padded[8])\n",
        "print(padded.shape)\n",
        "\n"
      ]
    }
  ],
  "metadata": {
    "colab": {
      "provenance": [],
      "toc_visible": true,
      "include_colab_link": true
    },
    "kernelspec": {
      "display_name": "Python 3",
      "name": "python3"
    }
  },
  "nbformat": 4,
  "nbformat_minor": 0
}
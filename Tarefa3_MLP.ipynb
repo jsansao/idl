{
  "nbformat": 4,
  "nbformat_minor": 0,
  "metadata": {
    "colab": {
      "provenance": [],
      "collapsed_sections": [],
      "authorship_tag": "ABX9TyMY0BQKr1R7N2iF/UlVvjjV",
      "include_colab_link": true
    },
    "kernelspec": {
      "name": "python3",
      "display_name": "Python 3"
    },
    "language_info": {
      "name": "python"
    }
  },
  "cells": [
    {
      "cell_type": "markdown",
      "metadata": {
        "id": "view-in-github",
        "colab_type": "text"
      },
      "source": [
        "<a href=\"https://colab.research.google.com/github/jsansao/idl/blob/main/Tarefa3_MLP.ipynb\" target=\"_parent\"><img src=\"https://colab.research.google.com/assets/colab-badge.svg\" alt=\"Open In Colab\"/></a>"
      ]
    },
    {
      "cell_type": "markdown",
      "source": [
        "# Tarefa 3 - Perceptron Multi-camada\n",
        "\n",
        "Nesta tarefa, você vai propor topologias de redes neurais multi-camada que vão resolver problemas de classificação binária com distribuições não separáveis linearmente (semi-luas e círculos). \n",
        "\n",
        "As distribuições estão plotadas para visualização (vermelho e azul representam as diferentes classes). \n",
        "\n",
        "O objetivo é obter uma rede que tenha 100% de acurácia de treinamento e validação em até 1000 épocas de treinamento. \n",
        "\n",
        "Sugestão: Aumente progressivamente o número de camadas (inicie com 2 camadas) e avalie a melhoria das acurácias. \n",
        "\n",
        "No questionário do portal didático, você deverá incluir o modelo sugerido para cada item, o valor das acurácias e perdas na última época. \n",
        "\n",
        "Você também deverá incluir o link ou arquivo ipynb da tarefa desenvolvida. "
      ],
      "metadata": {
        "id": "3UggO5H9tgfX"
      }
    },
    {
      "cell_type": "markdown",
      "source": [
        "## Geração dos datasets"
      ],
      "metadata": {
        "id": "fx004MWTsH8l"
      }
    },
    {
      "cell_type": "code",
      "execution_count": null,
      "metadata": {
        "id": "YIUbKGjYcNAS"
      },
      "outputs": [],
      "source": [
        "\n",
        "\n",
        "import numpy as np\n",
        "import matplotlib.pyplot as plt\n",
        "\n",
        "from sklearn import cluster, datasets, mixture\n",
        "from sklearn.neighbors import kneighbors_graph\n",
        "from sklearn.preprocessing import StandardScaler\n",
        "from itertools import cycle, islice\n",
        "from sklearn.model_selection import train_test_split\n",
        "\n",
        "import tensorflow as tf\n",
        "from tensorflow import keras\n",
        "\n",
        "\n",
        "np.random.seed(0)\n",
        "\n",
        "# ============\n",
        "# Generate datasets. We choose the size big enough to see the scalability\n",
        "# of the algorithms, but not too big to avoid too long running times\n",
        "# ============\n",
        "n_samples = 1000\n",
        "noisy_circles = datasets.make_circles(n_samples=n_samples, factor=0.5, noise=0.05)\n",
        "noisy_moons = datasets.make_moons(n_samples=n_samples, noise=0.05)\n"
      ]
    },
    {
      "cell_type": "markdown",
      "source": [
        "## 1. Meia-lua"
      ],
      "metadata": {
        "id": "KjdHDRocn6E-"
      }
    },
    {
      "cell_type": "code",
      "source": [
        "data = noisy_moons[0]\n",
        "label = noisy_moons[1]b\n",
        "\n",
        "X_train, X_test, y_train, y_test = train_test_split(data, label, random_state=0)"
      ],
      "metadata": {
        "id": "J6vaslu0ctAN"
      },
      "execution_count": null,
      "outputs": []
    },
    {
      "cell_type": "code",
      "source": [
        "plt.scatter(X_train[:,0], X_train[:,1], c=y_train , alpha=0.5, cmap='jet')\n",
        "plt.show()\n",
        "\n",
        "plt.scatter(X_test[:,0], X_test[:,1], c=y_test , alpha=0.5, cmap='jet')\n",
        "plt.show()"
      ],
      "metadata": {
        "id": "t3p3Nd5FcUbe"
      },
      "execution_count": null,
      "outputs": []
    },
    {
      "cell_type": "code",
      "source": [
        "model = # insira seu modelo aqui\n",
        "\n",
        "model.compile(optimizer='sgd', loss='mean_squared_error', metrics=['accuracy'])\n",
        "\n",
        "model.fit(X_train, y_train, epochs=1000, validation_data=(X_test, y_test))\n",
        "\n",
        "model.summary()"
      ],
      "metadata": {
        "id": "OcFGuJH2dntt"
      },
      "execution_count": null,
      "outputs": []
    },
    {
      "cell_type": "code",
      "source": [
        "Y_predict = model.predict(X_test)\n",
        "\n",
        "plt.scatter(X_test[:,0], X_test[:,1], c=Y_predict , alpha=0.5, cmap='jet')\n",
        "plt.show()"
      ],
      "metadata": {
        "id": "MCxVSYHQfraf"
      },
      "execution_count": null,
      "outputs": []
    },
    {
      "cell_type": "markdown",
      "source": [
        "## 2. Círculos"
      ],
      "metadata": {
        "id": "76LJBOQmnzBJ"
      }
    },
    {
      "cell_type": "code",
      "source": [
        "data = noisy_circles[0]\n",
        "label = noisy_circles[1]\n",
        "\n",
        "X_train, X_test, y_train, y_test = train_test_split(data, label, random_state=0)\n",
        "\n",
        "plt.scatter(X_train[:,0], X_train[:,1], c=y_train , alpha=0.5, cmap='jet')\n",
        "plt.show()\n",
        "\n",
        "plt.scatter(X_test[:,0], X_test[:,1], c=y_test , alpha=0.5, cmap='jet')\n",
        "plt.show()"
      ],
      "metadata": {
        "id": "aVKGWtA-noTe"
      },
      "execution_count": null,
      "outputs": []
    },
    {
      "cell_type": "code",
      "source": [
        "model = # insira seu modelo aqui\n",
        "\n",
        "model.compile(optimizer='sgd', loss='mean_squared_error', metrics=['accuracy'])\n",
        "\n",
        "model.fit(X_train, y_train, epochs=1000, validation_data=(X_test, y_test))\n",
        "\n",
        "model.summary()"
      ],
      "metadata": {
        "id": "4U3-Yu-ooARx"
      },
      "execution_count": null,
      "outputs": []
    },
    {
      "cell_type": "code",
      "source": [
        "Y_predict = model.predict(X_test)\n",
        "\n",
        "plt.scatter(X_test[:,0], X_test[:,1], c=Y_predict , alpha=0.5, cmap='jet')\n",
        "plt.show()"
      ],
      "metadata": {
        "id": "mdPBdG2rozwu"
      },
      "execution_count": null,
      "outputs": []
    }
  ]
}
{
  "nbformat": 4,
  "nbformat_minor": 0,
  "metadata": {
    "colab": {
      "provenance": [],
      "collapsed_sections": [],
      "authorship_tag": "ABX9TyNRiduyzEKvfycXT3hFV0K9",
      "include_colab_link": true
    },
    "kernelspec": {
      "name": "python3",
      "display_name": "Python 3"
    },
    "language_info": {
      "name": "python"
    }
  },
  "cells": [
    {
      "cell_type": "markdown",
      "metadata": {
        "id": "view-in-github",
        "colab_type": "text"
      },
      "source": [
        "<a href=\"https://colab.research.google.com/github/jsansao/idl/blob/main/Licao30_DeteccaoFacial_MTCNN.ipynb\" target=\"_parent\"><img src=\"https://colab.research.google.com/assets/colab-badge.svg\" alt=\"Open In Colab\"/></a>"
      ]
    },
    {
      "cell_type": "markdown",
      "metadata": {
        "id": "zDtyjBe8gLwJ"
      },
      "source": [
        "\n",
        "\n",
        "# Lição 30 - Detecção Facial com o MTCNN \n",
        "\n",
        "Multi-task cascaded convolutional neural network"
      ]
    },
    {
      "cell_type": "markdown",
      "metadata": {
        "id": "JqtycgWi31UA"
      },
      "source": [
        "## Instalação do wrapper keras-facenet\n",
        "\n",
        "Instala as dependências (mtcnn, opencv2, keras-facenet)"
      ]
    },
    {
      "cell_type": "code",
      "metadata": {
        "id": "-2vsjApZT5b8"
      },
      "source": [
        "!pip install keras-facenet"
      ],
      "execution_count": null,
      "outputs": []
    },
    {
      "cell_type": "markdown",
      "metadata": {
        "id": "9hWFoGT-3wzM"
      },
      "source": [
        "## Detecção de face"
      ]
    },
    {
      "cell_type": "code",
      "metadata": {
        "id": "3Np0n51VzsZR"
      },
      "source": [
        "import mtcnn \n",
        "from PIL import Image\n",
        "from numpy import asarray\n",
        "from matplotlib import pyplot\n",
        "from matplotlib.patches import Rectangle\n",
        "from matplotlib.patches import Circle\n"
      ],
      "execution_count": null,
      "outputs": []
    },
    {
      "cell_type": "code",
      "metadata": {
        "id": "u9vOtNIqzutp"
      },
      "source": [
        "from google.colab import files\n",
        "\n",
        "uploaded = files.upload()\n",
        "\n",
        "for fn in uploaded.keys():\n",
        "  print('User uploaded file \"{name}\" with length {length} bytes'.format(\n",
        "      name=fn, length=len(uploaded[fn])))"
      ],
      "execution_count": null,
      "outputs": []
    },
    {
      "cell_type": "code",
      "metadata": {
        "id": "WjVkt8XO0NnU"
      },
      "source": [
        "image = Image.open(fn)\n",
        "image = image.convert('RGB')\n",
        "pixels = asarray(image)"
      ],
      "execution_count": null,
      "outputs": []
    },
    {
      "cell_type": "code",
      "metadata": {
        "id": "PPVF6dv50itq"
      },
      "source": [
        "# create the detector, using default weights\n",
        "detector = mtcnn.MTCNN()\n",
        "# detect faces in the image\n",
        "faces = detector.detect_faces(pixels)\n",
        "for face in faces:\n",
        "\tprint(face)"
      ],
      "execution_count": null,
      "outputs": []
    },
    {
      "cell_type": "code",
      "metadata": {
        "id": "xQ78b0Rq1kXf"
      },
      "source": [
        "def draw_image_with_boxes(filename, result_list):\n",
        "\t# load the image\n",
        "\tdata = pyplot.imread(filename)\n",
        "\t# plot the image\n",
        "\tpyplot.imshow(data)\n",
        "\t# get the context for drawing boxes\n",
        "\tax = pyplot.gca()\n",
        "\t# plot each box\n",
        "\tfor result in result_list:\n",
        "\t\t# get coordinates\n",
        "\t\tx, y, width, height = result['box']\n",
        "\t\t# create the shape\n",
        "\t\trect = Rectangle((x, y), width, height, fill=False, linewidth = 3.0,  color='green')\n",
        "\t\t# draw the box\n",
        "\t\tax.add_patch(rect)\n",
        "\t# show the plot\n",
        "\tpyplot.show()"
      ],
      "execution_count": null,
      "outputs": []
    },
    {
      "cell_type": "code",
      "metadata": {
        "id": "L9-nr2Lu3Vve"
      },
      "source": [
        "draw_image_with_boxes(fn, faces)"
      ],
      "execution_count": null,
      "outputs": []
    },
    {
      "cell_type": "markdown",
      "metadata": {
        "id": "fUEjsk4347x5"
      },
      "source": [
        "## Marcar keypoints do rosto"
      ]
    },
    {
      "cell_type": "code",
      "metadata": {
        "id": "Sztz_dND4TC3"
      },
      "source": [
        "# draw an image with detected objects\n",
        "def draw_image_with_keypoints(filename, result_list):\n",
        "\t# load the image\n",
        "\tdata = pyplot.imread(filename)\n",
        "\t# plot the image\n",
        "\tpyplot.imshow(data)\n",
        "\t# get the context for drawing boxes\n",
        "\tax = pyplot.gca()\n",
        "\t# plot each box\n",
        "\tfor result in result_list:\n",
        "\t\t# get coordinates\n",
        "\t\tx, y, width, height = result['box']\n",
        "\t\t# create the shape\n",
        "\t\trect = Rectangle((x, y), width, height, fill=False, linewidth = 3.0, color='green')\n",
        "\t\t# draw the box\n",
        "\t\tax.add_patch(rect)\n",
        "\t\t# draw the dots\n",
        "\t\tfor key, value in result['keypoints'].items():\n",
        "\t\t\t# create and draw dot\n",
        "\t\t\tdot = Circle(value, radius=4, color='blue')\n",
        "\t\t\tax.add_patch(dot)\n",
        "\t# show the plot\n",
        "\tpyplot.show()\n",
        " \n",
        "# display faces on the original image\n",
        "draw_image_with_keypoints(fn, faces)"
      ],
      "execution_count": null,
      "outputs": []
    },
    {
      "cell_type": "markdown",
      "metadata": {
        "id": "2adjD0PA6M5V"
      },
      "source": [
        "## Cropar rostos"
      ]
    },
    {
      "cell_type": "code",
      "metadata": {
        "id": "TDmQJQI16Phs"
      },
      "source": [
        "def draw_faces(filename, result_list):\n",
        "\t# load the image\n",
        "\tdata = pyplot.imread(filename)\n",
        "\t# plot each face as a subplot\n",
        "\tfor i in range(len(result_list)):\n",
        "\t\t# get coordinates\n",
        "\t\tx1, y1, width, height = result_list[i]['box']\n",
        "\t\tx2, y2 = x1 + width, y1 + height\n",
        "\t\t# define subplot\n",
        "\t\tpyplot.subplot(1, len(result_list), i+1)\n",
        "\t\tpyplot.axis('off')\n",
        "\t\t# plot face\n",
        "\t\tpyplot.imshow(data[y1:y2, x1:x2])\n",
        "\t# show the plot\n",
        "\tpyplot.show()\n",
        " \n",
        "draw_faces(fn, faces)"
      ],
      "execution_count": null,
      "outputs": []
    }
  ]
}
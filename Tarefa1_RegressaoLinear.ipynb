{
  "nbformat": 4,
  "nbformat_minor": 0,
  "metadata": {
    "colab": {
      "name": "Tarefa1_RegressaoLinear.ipynb",
      "provenance": [],
      "collapsed_sections": [],
      "authorship_tag": "ABX9TyNmNrazvIchdSJnsLyRT/NO",
      "include_colab_link": true
    },
    "kernelspec": {
      "name": "python3",
      "display_name": "Python 3"
    },
    "language_info": {
      "name": "python"
    }
  },
  "cells": [
    {
      "cell_type": "markdown",
      "metadata": {
        "id": "view-in-github",
        "colab_type": "text"
      },
      "source": [
        "<a href=\"https://colab.research.google.com/github/jsansao/idl/blob/main/Tarefa1_RegressaoLinear.ipynb\" target=\"_parent\"><img src=\"https://colab.research.google.com/assets/colab-badge.svg\" alt=\"Open In Colab\"/></a>"
      ]
    },
    {
      "cell_type": "markdown",
      "source": [
        "# Tarefa 1 - Regressão linear \n",
        "\n",
        "Nesta tarefa, vamos determinar os coeficientes de regressão linear de um conjunto de dados sintéticos. \n",
        "\n",
        "Para a avaliação, você deverá lançar no portal didático os coeficientes encontrados na tarefa correspondente. "
      ],
      "metadata": {
        "id": "Mi-Hxexqzl_T"
      }
    },
    {
      "cell_type": "code",
      "execution_count": 3,
      "metadata": {
        "id": "aaspnPZXzi_A"
      },
      "outputs": [],
      "source": [
        "import matplotlib.pyplot as plt\n",
        "\n",
        "\n",
        "from sklearn import linear_model\n",
        "from sklearn.metrics import mean_squared_error, r2_score\n",
        "import numpy as np  "
      ]
    },
    {
      "cell_type": "markdown",
      "source": [
        "## Carregamento dos dados"
      ],
      "metadata": {
        "id": "MwC-brV217ri"
      }
    },
    {
      "cell_type": "code",
      "source": [
        "!wget https://raw.githubusercontent.com/jsansao/idl/main/linreg_tp1.txt"
      ],
      "metadata": {
        "id": "ZGrLNbRG0nGx"
      },
      "execution_count": null,
      "outputs": []
    },
    {
      "cell_type": "markdown",
      "source": [
        "As três primeiras colunas são as variáveis indepententes (X1 a X3). A saída Y é a 4ª coluna. "
      ],
      "metadata": {
        "id": "LdcFieSk1T_C"
      }
    },
    {
      "cell_type": "code",
      "source": [
        "data = np.loadtxt(\"linreg_tp1.txt\",dtype=np.float64,delimiter=\",\")\n",
        "X = data[::,0:3]\n",
        "Y = data[::,-1:]\n",
        "\n",
        "data[:5,::] "
      ],
      "metadata": {
        "id": "RLZyZIQp05Pv"
      },
      "execution_count": null,
      "outputs": []
    },
    {
      "cell_type": "markdown",
      "source": [
        "## Cálculo dos coeficientes:\n",
        "\n",
        "Você pode usar as bibliotecas do SKLearn ou o método do gradiente descente conforme a lição 1. \n",
        "\n",
        "(Opcional) Verifique o coeficiente de determinação."
      ],
      "metadata": {
        "id": "XTrwI4lV1-5Q"
      }
    },
    {
      "cell_type": "code",
      "source": [
        "#Inserir código aqui"
      ],
      "metadata": {
        "id": "oNFrrEuT1vpY"
      },
      "execution_count": 14,
      "outputs": []
    }
  ]
}
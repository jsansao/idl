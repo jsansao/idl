{
  "nbformat": 4,
  "nbformat_minor": 0,
  "metadata": {
    "colab": {
      "name": "Licao1_RegressaoLinear.ipynb",
      "provenance": [],
      "authorship_tag": "ABX9TyOooSivv7QCp6+qcfolemcw",
      "include_colab_link": true
    },
    "kernelspec": {
      "name": "python3",
      "display_name": "Python 3"
    },
    "language_info": {
      "name": "python"
    }
  },
  "cells": [
    {
      "cell_type": "markdown",
      "metadata": {
        "id": "view-in-github",
        "colab_type": "text"
      },
      "source": [
        "<a href=\"https://colab.research.google.com/github/jsansao/idl/blob/main/Licao1_RegressaoLinear.ipynb\" target=\"_parent\"><img src=\"https://colab.research.google.com/assets/colab-badge.svg\" alt=\"Open In Colab\"/></a>"
      ]
    },
    {
      "cell_type": "markdown",
      "source": [
        "# Lição 1 - Regressão linear "
      ],
      "metadata": {
        "id": "bhkfeBFMkl9m"
      }
    },
    {
      "cell_type": "markdown",
      "source": [
        "## Carregando os dados"
      ],
      "metadata": {
        "id": "AU4hE6dYkxm0"
      }
    },
    {
      "cell_type": "code",
      "execution_count": 8,
      "metadata": {
        "id": "3XuikJPyMRzX"
      },
      "outputs": [],
      "source": [
        "import numpy as np  #python library for scientific computing\n",
        "import matplotlib.pyplot as plt\n",
        "\n",
        "np.set_printoptions(suppress=True) "
      ]
    },
    {
      "cell_type": "code",
      "source": [
        "!wget https://raw.githubusercontent.com/jsansao/idl/main/ex1data2.txt"
      ],
      "metadata": {
        "colab": {
          "base_uri": "https://localhost:8080/"
        },
        "id": "fcjE3SAEwiqJ",
        "outputId": "4a5c0917-d115-4eb8-af17-106e784e8875"
      },
      "execution_count": 80,
      "outputs": [
        {
          "output_type": "stream",
          "name": "stdout",
          "text": [
            "--2022-03-29 22:18:32--  https://raw.githubusercontent.com/jsansao/idl/main/ex1data2.txt\n",
            "Resolving raw.githubusercontent.com (raw.githubusercontent.com)... 185.199.108.133, 185.199.109.133, 185.199.110.133, ...\n",
            "Connecting to raw.githubusercontent.com (raw.githubusercontent.com)|185.199.108.133|:443... connected.\n",
            "HTTP request sent, awaiting response... 200 OK\n",
            "Length: 657 [text/plain]\n",
            "Saving to: ‘ex1data2.txt.1’\n",
            "\n",
            "\rex1data2.txt.1        0%[                    ]       0  --.-KB/s               \rex1data2.txt.1      100%[===================>]     657  --.-KB/s    in 0s      \n",
            "\n",
            "2022-03-29 22:18:32 (57.7 MB/s) - ‘ex1data2.txt.1’ saved [657/657]\n",
            "\n"
          ]
        }
      ]
    },
    {
      "cell_type": "code",
      "source": [
        "\n",
        "data = np.loadtxt(\"ex1data2.txt\",dtype=np.float64,delimiter=\",\")\n",
        "data[:5,::] #dataset loaded demonstration\n",
        "\n",
        "\n"
      ],
      "metadata": {
        "colab": {
          "base_uri": "https://localhost:8080/"
        },
        "id": "csQo1vxjQeF1",
        "outputId": "c28aed87-319c-4ee2-f815-7f644f9a2776"
      },
      "execution_count": 9,
      "outputs": [
        {
          "output_type": "execute_result",
          "data": {
            "text/plain": [
              "array([[  2104.,      3., 399900.],\n",
              "       [  1600.,      3., 329900.],\n",
              "       [  2400.,      3., 369000.],\n",
              "       [  1416.,      2., 232000.],\n",
              "       [  3000.,      4., 539900.]])"
            ]
          },
          "metadata": {},
          "execution_count": 9
        }
      ]
    },
    {
      "cell_type": "code",
      "source": [
        "X = data[::,0:2]\n",
        "Y = data[::,-1:]"
      ],
      "metadata": {
        "id": "oeXnqCh1QwNH"
      },
      "execution_count": 10,
      "outputs": []
    },
    {
      "cell_type": "code",
      "source": [
        "# Gráfico da dispersão\n",
        "plt.figure(figsize = (15,4),dpi=100)\n",
        "plt.subplot(121)\n",
        "plt.scatter(X[::,0:1],Y)\n",
        "plt.xlabel(\"Superfície do imóvel (X1)\")\n",
        "plt.ylabel(\"Preço (Y)\")\n",
        "\n",
        "plt.subplot(122)\n",
        "plt.scatter(X[::,-1:],Y)\n",
        "plt.xlabel(\"Número de dormitórios (X2)\")\n",
        "plt.ylabel(\"Preço (Y)\")\n",
        "plt.show()"
      ],
      "metadata": {
        "colab": {
          "base_uri": "https://localhost:8080/",
          "height": 311
        },
        "id": "nf1CcAGWQ5Rz",
        "outputId": "9b76ddd9-39f1-44ab-aee6-769bafe55499"
      },
      "execution_count": 12,
      "outputs": [
        {
          "output_type": "display_data",
          "data": {
            "text/plain": [
              "<Figure size 1500x400 with 2 Axes>"
            ],
            "image/png": "[encoded data removed]"
          },
          "metadata": {
            "needs_background": "light"
          }
        }
      ]
    },
    {
      "cell_type": "markdown",
      "source": [
        "## Gradiente descendente"
      ],
      "metadata": {
        "id": "sMGpZQVNVNaT"
      }
    },
    {
      "cell_type": "code",
      "source": [
        "# introduce weights of hypothesis (randomly initialize)\n",
        "Theta = np.random.rand(1,3)\n",
        "# m is total example set , n is number of features\n",
        "m,n = X.shape\n",
        "# add bias to input matrix by simple make X0 = 1 for all\n",
        "X_bias = np.ones((m,n+1))\n",
        "X_bias[::,1:] = X\n",
        "# output first 5 X_bias examples\n",
        "X_bias[0:5,:]\n",
        "Y[0:5,::]"
      ],
      "metadata": {
        "colab": {
          "base_uri": "https://localhost:8080/"
        },
        "id": "ss7bS_dbcSNE",
        "outputId": "b568531a-281a-4c8c-edf5-9b274bd038b1"
      },
      "execution_count": 16,
      "outputs": [
        {
          "output_type": "execute_result",
          "data": {
            "text/plain": [
              "array([[399900.],\n",
              "       [329900.],\n",
              "       [369000.],\n",
              "       [232000.],\n",
              "       [539900.]])"
            ]
          },
          "metadata": {},
          "execution_count": 16
        }
      ]
    },
    {
      "cell_type": "code",
      "source": [
        "#feature scaling\n",
        "# it also protect program from overflow error\n",
        "mean_size = np.mean(X_bias[::,1:2])\n",
        "mean_bedroom = np.mean(X_bias[::,2:])\n",
        "size_std = np.std(X_bias[::,1:2])\n",
        "bedroom_std = np.std(X_bias[::,2:])\n",
        "X_bias[::,1:2] = (X_bias[::,1:2] - mean_size)/ (size_std) \n",
        "X_bias[::,2:] = (X_bias[::,2:] - mean_bedroom)/ (bedroom_std)\n",
        "X_bias[0:5,::]"
      ],
      "metadata": {
        "colab": {
          "base_uri": "https://localhost:8080/"
        },
        "id": "oJsMpnRPepCm",
        "outputId": "88e8ace5-1a70-48c0-c675-a13ef90a89dc"
      },
      "execution_count": 17,
      "outputs": [
        {
          "output_type": "execute_result",
          "data": {
            "text/plain": [
              "array([[ 1.        ,  0.13141542, -0.22609337],\n",
              "       [ 1.        , -0.5096407 , -0.22609337],\n",
              "       [ 1.        ,  0.5079087 , -0.22609337],\n",
              "       [ 1.        , -0.74367706, -1.5543919 ],\n",
              "       [ 1.        ,  1.27107075,  1.10220517]])"
            ]
          },
          "metadata": {},
          "execution_count": 17
        }
      ]
    },
    {
      "cell_type": "code",
      "source": [
        "#define function to find cost\n",
        "def cost(X_bias,Y,Theta):\n",
        "    np.seterr(over='raise')\n",
        "    m,n = X.shape\n",
        "    hypothesis = X_bias.dot(Theta.transpose())\n",
        "    return (1/(2.0*m))*((np.square(hypothesis-Y)).sum(axis=0))"
      ],
      "metadata": {
        "id": "C13vGeKDergc"
      },
      "execution_count": 18,
      "outputs": []
    },
    {
      "cell_type": "code",
      "source": [
        "#function gradient descent algorithm from minimizing theta\n",
        "def gradientDescent(X_bias,Y,Theta,iterations,alpha):\n",
        "    count = 1\n",
        "    cost_log = np.array([])\n",
        "    while(count <= iterations):\n",
        "        hypothesis = X_bias.dot(Theta.transpose())\n",
        "        temp0 = Theta[0,0] - alpha*(1.0/m)*((hypothesis-Y)*(X_bias[::,0:1])).sum(axis=0)\n",
        "        temp1 = Theta[0,1] - alpha*(1.0/m)*((hypothesis-Y)*(X_bias[::,1:2])).sum(axis=0)\n",
        "        temp2 = Theta[0,2] - alpha*(1.0/m)*((hypothesis-Y)*(X_bias[::,-1:])).sum(axis=0)\n",
        "        Theta[0,0] = temp0\n",
        "        Theta[0,1] = temp1\n",
        "        Theta[0,2] = temp2\n",
        "        cost_log = np.append(cost_log,cost(X_bias,Y,Theta))\n",
        "        count = count + 1\n",
        "    plt.plot(np.linspace(1,iterations,iterations,endpoint=True),cost_log)\n",
        "    plt.title(\"Iteration vs Cost graph \")\n",
        "    plt.xlabel(\"Number of iteration\")\n",
        "    plt.ylabel(\"Cost of Theta\")\n",
        "    plt.show()\n",
        "    return Theta"
      ],
      "metadata": {
        "id": "0D_jCmPoew58"
      },
      "execution_count": 19,
      "outputs": []
    },
    {
      "cell_type": "code",
      "source": [
        "alpha = 0.3\n",
        "iterations = 100\n",
        "Theta = gradientDescent(X_bias,Y,Theta,iterations,alpha)\n",
        "Theta"
      ],
      "metadata": {
        "colab": {
          "base_uri": "https://localhost:8080/",
          "height": 312
        },
        "id": "I8KszBk4ezpO",
        "outputId": "3078c086-4f44-4f98-a67f-a3dfa4d494fd"
      },
      "execution_count": 22,
      "outputs": [
        {
          "output_type": "display_data",
          "data": {
            "text/plain": [
              "<Figure size 432x288 with 1 Axes>"
            ],
            "image/png": "[encoded data removed]"
          },
          "metadata": {
            "needs_background": "light"
          }
        },
        {
          "output_type": "execute_result",
          "data": {
            "text/plain": [
              "array([[340412.65957447, 109447.7552595 ,  -6578.31364402]])"
            ]
          },
          "metadata": {},
          "execution_count": 22
        }
      ]
    },
    {
      "cell_type": "code",
      "source": [
        "# predict the price of a house with 1650 square feet and 3 bedrooms\n",
        "# add bias unit 1.0\n",
        "X_predict = np.array([1.0,1650.0,3]) \n",
        "#feature scaling the data first\n",
        "X_predict[1] = (X_predict[1] - mean_size)/ (size_std) \n",
        "X_predict[2] = (X_predict[2]- mean_bedroom)/ (bedroom_std)\n",
        "hypothesis = X_predict.dot(Theta.transpose())\n",
        "hypothesis"
      ],
      "metadata": {
        "colab": {
          "base_uri": "https://localhost:8080/"
        },
        "id": "ZgxRFN1vfHr7",
        "outputId": "1dffee9f-144c-4f8c-9337-53a3a9c77aa7"
      },
      "execution_count": 24,
      "outputs": [
        {
          "output_type": "execute_result",
          "data": {
            "text/plain": [
              "array([293081.47339909])"
            ]
          },
          "metadata": {},
          "execution_count": 24
        }
      ]
    },
    {
      "cell_type": "markdown",
      "source": [
        "## Solução exata (Equação normal)"
      ],
      "metadata": {
        "id": "60cLenJBVSkL"
      }
    },
    {
      "cell_type": "code",
      "source": [
        "import sklearn\n",
        "from sklearn.preprocessing import add_dummy_feature\n",
        "\n",
        "X_b = add_dummy_feature(X)  # add x0 = 1 to each instance\n",
        "theta_best = np.linalg.inv(X_b.T @ X_b) @ X_b.T @ Y"
      ],
      "metadata": {
        "id": "Sl1vWlrUcTJk"
      },
      "execution_count": 33,
      "outputs": []
    },
    {
      "cell_type": "code",
      "source": [
        "theta_best2 = np.linalg.inv(X_bias.T @ X_bias) @ X_bias.T @ Y"
      ],
      "metadata": {
        "id": "4yvUjeAjiYW1"
      },
      "execution_count": 28,
      "outputs": []
    },
    {
      "cell_type": "code",
      "source": [
        "display(theta_best)\n",
        "display(theta_best2)\n"
      ],
      "metadata": {
        "colab": {
          "base_uri": "https://localhost:8080/",
          "height": 121
        },
        "id": "17y6LT3Wg2PU",
        "outputId": "e2c576c6-8156-4982-c674-6f9008bbb74a"
      },
      "execution_count": 35,
      "outputs": [
        {
          "output_type": "display_data",
          "data": {
            "text/plain": [
              "array([[89597.9095428 ],\n",
              "       [  139.21067402],\n",
              "       [-8738.01911233]])"
            ]
          },
          "metadata": {}
        },
        {
          "output_type": "display_data",
          "data": {
            "text/plain": [
              "array([[340412.65957447],\n",
              "       [109447.79646964],\n",
              "       [ -6578.35485416]])"
            ]
          },
          "metadata": {}
        }
      ]
    },
    {
      "cell_type": "markdown",
      "source": [
        "## Implementação Scikit-Learn"
      ],
      "metadata": {
        "id": "8MF05SEoVcHE"
      }
    },
    {
      "cell_type": "code",
      "source": [
        "from sklearn.linear_model import LinearRegression\n",
        "\n",
        "lin_reg = LinearRegression()\n",
        "lin_reg.fit(X_bias, Y)\n",
        "lin_reg.intercept_, lin_reg.coef_"
      ],
      "metadata": {
        "colab": {
          "base_uri": "https://localhost:8080/"
        },
        "id": "6NoIWEjdVhyI",
        "outputId": "b017cd48-4217-4e96-d41c-2d1ddc5100c0"
      },
      "execution_count": 31,
      "outputs": [
        {
          "output_type": "execute_result",
          "data": {
            "text/plain": [
              "(array([340412.65957447]),\n",
              " array([[     0.        , 109447.79646964,  -6578.35485416]]))"
            ]
          },
          "metadata": {},
          "execution_count": 31
        }
      ]
    },
    {
      "cell_type": "code",
      "source": [
        "lin_reg = LinearRegression()\n",
        "lin_reg.fit(X, Y)\n",
        "lin_reg.intercept_, lin_reg.coef_"
      ],
      "metadata": {
        "colab": {
          "base_uri": "https://localhost:8080/"
        },
        "id": "KeTnaajkjz3U",
        "outputId": "0a1acddc-f949-441f-e32e-8e7cc5378324"
      },
      "execution_count": 32,
      "outputs": [
        {
          "output_type": "execute_result",
          "data": {
            "text/plain": [
              "(array([89597.9095428]), array([[  139.21067402, -8738.01911233]]))"
            ]
          },
          "metadata": {},
          "execution_count": 32
        }
      ]
    },
    {
      "cell_type": "code",
      "source": [
        "import matplotlib.pyplot as plt\n",
        "\n",
        "\n",
        "\n",
        "X_new = np.array([[0, 3], [ 5000, 3]])\n",
        "X_new_b = add_dummy_feature(X_new)  # add x0 = 1 to each instance\n",
        "y_predict = X_new_b @ theta_best\n",
        "\n",
        "plt.plot(X_new[::,0], y_predict, \"r-\", label=\"Predictions\")\n",
        "plt.plot(X[::,0], Y, \"b.\")\n",
        "\n",
        "\n",
        "plt.show()\n"
      ],
      "metadata": {
        "colab": {
          "base_uri": "https://localhost:8080/",
          "height": 265
        },
        "id": "lzPJP1IXmuFH",
        "outputId": "508ef110-747b-4b03-8ae6-574bc484913b"
      },
      "execution_count": 75,
      "outputs": [
        {
          "output_type": "display_data",
          "data": {
            "text/plain": [
              "<Figure size 432x288 with 1 Axes>"
            ],
            "image/png": "[encoded data removed]"
          },
          "metadata": {
            "needs_background": "light"
          }
        }
      ]
    },
    {
      "cell_type": "code",
      "source": [
        "\n",
        "X_new = np.array([[1000, 1], [ 5000, 5]])\n",
        "X_new_b = add_dummy_feature(X_new)  # add x0 = 1 to each instance\n",
        "y_predict = X_new_b @ theta_best\n",
        "\n",
        "plt.plot(X_new[::,1], y_predict, \"r-\", label=\"Predictions\")\n",
        "plt.plot(X[::,1], Y, \"b.\")\n",
        "\n",
        "\n",
        "plt.show()\n"
      ],
      "metadata": {
        "colab": {
          "base_uri": "https://localhost:8080/",
          "height": 265
        },
        "id": "iwQe4o-5t6MX",
        "outputId": "276ca565-d0f2-47b0-b7c5-0801a8b44125"
      },
      "execution_count": 79,
      "outputs": [
        {
          "output_type": "display_data",
          "data": {
            "text/plain": [
              "<Figure size 432x288 with 1 Axes>"
            ],
            "image/png": "[encoded data removed]"
          },
          "metadata": {
            "needs_background": "light"
          }
        }
      ]
    }
  ]
}
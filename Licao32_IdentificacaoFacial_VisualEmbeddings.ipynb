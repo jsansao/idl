{
  "nbformat": 4,
  "nbformat_minor": 0,
  "metadata": {
    "colab": {
      "provenance": [],
      "collapsed_sections": [],
      "authorship_tag": "ABX9TyMYwdAlYwbXIta7e7mLsNJ6",
      "include_colab_link": true
    },
    "kernelspec": {
      "name": "python3",
      "display_name": "Python 3"
    },
    "language_info": {
      "name": "python"
    },
    "accelerator": "GPU"
  },
  "cells": [
    {
      "cell_type": "markdown",
      "metadata": {
        "id": "view-in-github",
        "colab_type": "text"
      },
      "source": [
        "<a href=\"https://colab.research.google.com/github/jsansao/idl/blob/main/Licao32_IdentificacaoFacial_VisualEmbeddings.ipynb\" target=\"_parent\"><img src=\"https://colab.research.google.com/assets/colab-badge.svg\" alt=\"Open In Colab\"/></a>"
      ]
    },
    {
      "cell_type": "markdown",
      "metadata": {
        "id": "RSAY2IqXhoKG"
      },
      "source": [
        "# Lição 32 - Identificação facial com visual embeddings \n",
        "\n",
        "Vamos extrair os visual embeddings usando o VGGFace2 e criar um classificador com SVM. "
      ]
    },
    {
      "cell_type": "markdown",
      "metadata": {
        "id": "jOk0RizcTiK7"
      },
      "source": [
        "## Download do dataset"
      ]
    },
    {
      "cell_type": "code",
      "metadata": {
        "colab": {
          "base_uri": "https://localhost:8080/"
        },
        "id": "evKOfp4UtJ7m",
        "outputId": "eb159227-3f65-4777-f430-0038270428af"
      },
      "source": [
        "!wget https://github.com/jsansao/fame-dataset/archive/refs/heads/main.zip"
      ],
      "execution_count": null,
      "outputs": [
        {
          "output_type": "stream",
          "name": "stdout",
          "text": [
            "--2021-11-30 23:45:47--  https://github.com/jsansao/fame-dataset/archive/refs/heads/main.zip\n",
            "Resolving github.com (github.com)... 140.82.112.3\n",
            "Connecting to github.com (github.com)|140.82.112.3|:443... connected.\n",
            "HTTP request sent, awaiting response... 302 Found\n",
            "Location: https://codeload.github.com/jsansao/fame-dataset/zip/refs/heads/main [following]\n",
            "--2021-11-30 23:45:47--  https://codeload.github.com/jsansao/fame-dataset/zip/refs/heads/main\n",
            "Resolving codeload.github.com (codeload.github.com)... 140.82.112.10\n",
            "Connecting to codeload.github.com (codeload.github.com)|140.82.112.10|:443... connected.\n",
            "HTTP request sent, awaiting response... 200 OK\n",
            "Length: unspecified [application/zip]\n",
            "Saving to: ‘main.zip’\n",
            "\n",
            "main.zip                [        <=>         ]  47.24M  20.9MB/s    in 2.3s    \n",
            "\n",
            "2021-11-30 23:45:49 (20.9 MB/s) - ‘main.zip’ saved [49530242]\n",
            "\n"
          ]
        }
      ]
    },
    {
      "cell_type": "code",
      "metadata": {
        "colab": {
          "base_uri": "https://localhost:8080/"
        },
        "id": "sSlV7sRqtUBi",
        "outputId": "fc415f51-e26a-44e0-d08b-97e9761d9f57"
      },
      "source": [
        "!unzip main.zip"
      ],
      "execution_count": null,
      "outputs": [
        {
          "output_type": "stream",
          "name": "stdout",
          "text": [
            "Archive:  main.zip\n",
            "e76125873a9351f49ba1f84baf8e2ff90f3731ab\n",
            "   creating: fame-dataset-main/\n",
            "   creating: fame-dataset-main/train/\n",
            "   creating: fame-dataset-main/train/AlPacino/\n",
            "  inflating: fame-dataset-main/train/AlPacino/1.al_pacino.jpg  \n",
            "  inflating: fame-dataset-main/train/AlPacino/11.29373_0d16849303cb824.jpg  \n",
            "  inflating: fame-dataset-main/train/AlPacino/12.210px-al_pacino_roma_film_fest_cropped.jpg  \n",
            "  inflating: fame-dataset-main/train/AlPacino/13.image-w856.jpg  \n",
            "  inflating: fame-dataset-main/train/AlPacino/14.os-80-anos-de-al-pacino0298839100202004251215.jpg  \n",
            "  inflating: fame-dataset-main/train/AlPacino/15.filmes-com-al-pacino-pdb-117%e2%80%8b.jpg  \n",
            "  inflating: fame-dataset-main/train/AlPacino/19.al-pacino.jpg  \n",
            "  inflating: fame-dataset-main/train/AlPacino/2.1337912.jpg  \n",
            "  inflating: fame-dataset-main/train/AlPacino/23.al_pacino_2016_%2830401544240%29.jpg  \n",
            "  inflating: fame-dataset-main/train/AlPacino/25.al_pacino.jpg  \n",
            " extracting: fame-dataset-main/train/AlPacino/26.2-al-pacino.jpg  \n",
            "  inflating: fame-dataset-main/train/AlPacino/4.x3fy2ejkrrd5zbzpinz6ngvulq.jpg  \n",
            "  inflating: fame-dataset-main/train/AlPacino/5.al%2bpacino%2byoung.jpg  \n",
            "  inflating: fame-dataset-main/train/AlPacino/6.gettyimages-1199529675_widelg.jpg  \n",
            "  inflating: fame-dataset-main/train/AlPacino/7.250.jpg  \n",
            "   creating: fame-dataset-main/train/AngelinaJolie/\n",
            "  inflating: fame-dataset-main/train/AngelinaJolie/1.angelina_jolie_%2848462859552%29.jpg  \n",
            "  inflating: fame-dataset-main/train/AngelinaJolie/11.2768b890-ba70-11eb-943b-8c7feb9a2c81.jpg  \n",
            "  inflating: fame-dataset-main/train/AngelinaJolie/12.rs_1200x1200-211024142005-1200-angelina-jolie-mp.jpg  \n",
            "  inflating: fame-dataset-main/train/AngelinaJolie/13.1593346423-angelinajolie1.jpg  \n",
            "  inflating: fame-dataset-main/train/AngelinaJolie/14.angelinajolie_13.jpg  \n",
            "  inflating: fame-dataset-main/train/AngelinaJolie/16.naom_603e530c89780.jpg  \n",
            "  inflating: fame-dataset-main/train/AngelinaJolie/17.u7wuy55aijhfjf2e76ekyju3gi.jpg  \n",
            "  inflating: fame-dataset-main/train/AngelinaJolie/18.355.jpg  \n",
            "  inflating: fame-dataset-main/train/AngelinaJolie/2.angelina-jolie.jpg  \n",
            "  inflating: fame-dataset-main/train/AngelinaJolie/20.img61.jpg  \n",
            "  inflating: fame-dataset-main/train/AngelinaJolie/21.angelinajolieeternals.jpg  \n",
            "  inflating: fame-dataset-main/train/AngelinaJolie/4.5747748.jpg  \n",
            "  inflating: fame-dataset-main/train/AngelinaJolie/6.24630_7e9a5b3c65889d88.jpg  \n",
            "  inflating: fame-dataset-main/train/AngelinaJolie/7.angelina-jolie-418x235.jpg  \n",
            "  inflating: fame-dataset-main/train/AngelinaJolie/9.zpt2t4f2tnh4nhml6q4ixzdtyy.jpg.webp  \n",
            "   creating: fame-dataset-main/train/ClintEastwood/\n",
            "  inflating: fame-dataset-main/train/ClintEastwood/1.clint_eastwood_at_2010_new_york_film_festival.jpg  \n",
            "  inflating: fame-dataset-main/train/ClintEastwood/13.1341689484-cry-macho.jpg  \n",
            "  inflating: fame-dataset-main/train/ClintEastwood/14.clinteastwood.55386.jpg  \n",
            "  inflating: fame-dataset-main/train/ClintEastwood/15.tres-homens-em-conflito-clint-eastwood-destaque-768x432.jpg  \n",
            "  inflating: fame-dataset-main/train/ClintEastwood/16.206786.jpg  \n",
            "  inflating: fame-dataset-main/train/ClintEastwood/17.clint_eastwood_foto_amy_sussmangetty_images_for_afi_widelg.jpg  \n",
            "  inflating: fame-dataset-main/train/ClintEastwood/18.12-2-418x235.jpg  \n",
            "  inflating: fame-dataset-main/train/ClintEastwood/2.cry-macho.jpg  \n",
            "  inflating: fame-dataset-main/train/ClintEastwood/3.clint-eastwood-tres-homens-1590976291458_v2_450x337.jpg  \n",
            "  inflating: fame-dataset-main/train/ClintEastwood/4.clint_eastwood_j._edgar_premier%2c_november_2011_%28cropped%29.jpg  \n",
            "  inflating: fame-dataset-main/train/ClintEastwood/5.clint_eastwood_em_cry_macho_foto_divulgacao.jpg  \n",
            "  inflating: fame-dataset-main/train/ClintEastwood/6.1294382.jpg  \n",
            "  inflating: fame-dataset-main/train/ClintEastwood/7.clint-eastwood-us-actor-smoking-a-cigar-wearing-a-brown-hat-and-in-a-picture-id140792977.jpg  \n",
            "  inflating: fame-dataset-main/train/ClintEastwood/8.736130_22cd2438ea90997.jpg  \n",
            "  inflating: fame-dataset-main/train/ClintEastwood/9.20200530135319446117u.jpg  \n",
            "   creating: fame-dataset-main/train/EmilyBlunt/\n",
            "  inflating: fame-dataset-main/train/EmilyBlunt/1.0092037.jpg  \n",
            "  inflating: fame-dataset-main/train/EmilyBlunt/10.emily_blunt_2-e1550064470485-1200x900.jpg  \n",
            "  inflating: fame-dataset-main/train/EmilyBlunt/11.gettyimages-1074849570.jpg  \n",
            "  inflating: fame-dataset-main/train/EmilyBlunt/12.2557724-emily-blunt-ja-adotou-o-corte-blunt-que-950x0-3.jpg  \n",
            "  inflating: fame-dataset-main/train/EmilyBlunt/13.emily-blunt.jpg  \n",
            "  inflating: fame-dataset-main/train/EmilyBlunt/16.emily-blunt.jpg  \n",
            "  inflating: fame-dataset-main/train/EmilyBlunt/17.2177828426-emily-blunt-1024x631.jpg  \n",
            "  inflating: fame-dataset-main/train/EmilyBlunt/18.emily-blunt-at-the-a-quiet-place-part-ii-press-conference-at-the-picture-id1211476575.jpg  \n",
            "  inflating: fame-dataset-main/train/EmilyBlunt/21.actor-emily-blunt-attends-a-quiet-place-screening-at-the-curzon-soho-picture-id942347602.jpg  \n",
            "  inflating: fame-dataset-main/train/EmilyBlunt/23.450.jpg  \n",
            "  inflating: fame-dataset-main/train/EmilyBlunt/24.emily-blunt.jpg  \n",
            " extracting: fame-dataset-main/train/EmilyBlunt/3.emily-blunt-processar-disney.jpg.webp  \n",
            "  inflating: fame-dataset-main/train/EmilyBlunt/5.emily-blunt.jpg  \n",
            "  inflating: fame-dataset-main/train/EmilyBlunt/7.emily-blunt-05-03-20-img00-e1583435312200.jpg  \n",
            "  inflating: fame-dataset-main/train/EmilyBlunt/9.emily-blunt.png.jpg  \n",
            "   creating: fame-dataset-main/train/KristenStewart/\n",
            "  inflating: fame-dataset-main/train/KristenStewart/1.kristen_stewart_cannes_2018_%28cropped%29.jpg  \n",
            "  inflating: fame-dataset-main/train/KristenStewart/10.3453081.jpg  \n",
            "  inflating: fame-dataset-main/train/KristenStewart/11.3508436-kristen-stewart-caracterizada-para-film-950x0-2.jpg  \n",
            "  inflating: fame-dataset-main/train/KristenStewart/12.340c1c12-kristen-stewart.jpg  \n",
            "  inflating: fame-dataset-main/train/KristenStewart/13.kristen-stewart-attends-the-special-fan-screening-of-20th-century-picture-id1198160516.jpg  \n",
            "  inflating: fame-dataset-main/train/KristenStewart/14.tagreuters.com2021binary_lynxmpeh820yn-baseimage.jpg  \n",
            "  inflating: fame-dataset-main/train/KristenStewart/15.0a97b3ccxmv2a00d0926pcrjy.jpg  \n",
            "  inflating: fame-dataset-main/train/KristenStewart/16.1970924-kristen-stewart-raspa-o-cabelo-e-mostra-624x600-1.jpg  \n",
            "  inflating: fame-dataset-main/train/KristenStewart/17.296729757-kristen-stewart.jpg  \n",
            "  inflating: fame-dataset-main/train/KristenStewart/2.16351770716176d26f05547_1635177071_3x2_md.jpg  \n",
            "  inflating: fame-dataset-main/train/KristenStewart/3.gettyimages-1349311160.jpg  \n",
            "  inflating: fame-dataset-main/train/KristenStewart/4.kristen-stewart-attends-a-special-fan-screening-of-20th-century-foxs-picture-id1198159009.jpg  \n",
            " extracting: fame-dataset-main/train/KristenStewart/5.1630762201259.jpg.webp  \n",
            "  inflating: fame-dataset-main/train/KristenStewart/6.16117750866011bc6ea85aa_1611775086_3x4_md.jpg  \n",
            "  inflating: fame-dataset-main/train/KristenStewart/9.kristen-stewart.jpg  \n",
            "   creating: fame-dataset-main/train/MerylStreep/\n",
            "  inflating: fame-dataset-main/train/MerylStreep/1.meryl_streep_december_2018.jpg  \n",
            "  inflating: fame-dataset-main/train/MerylStreep/10.meryl.jpg  \n",
            "  inflating: fame-dataset-main/train/MerylStreep/11.gettyimages-927851652.jpg  \n",
            "  inflating: fame-dataset-main/train/MerylStreep/12.meryl-streep.jpg  \n",
            " extracting: fame-dataset-main/train/MerylStreep/13.1531857804765.jpg.webp  \n",
            "  inflating: fame-dataset-main/train/MerylStreep/14.latest.jpg  \n",
            "  inflating: fame-dataset-main/train/MerylStreep/15.mv5bmtu4mjk5mdexof5bml5banbnxkftztcwotu1mtmymw@@._v1_uy1200_cr112,0,630,1200_al_.jpg  \n",
            "  inflating: fame-dataset-main/train/MerylStreep/2.220px-meryl_streep_by_jack_mitchell.jpg  \n",
            "  inflating: fame-dataset-main/train/MerylStreep/3.2382049.jpg  \n",
            "  inflating: fame-dataset-main/train/MerylStreep/4.162437744960d2086957d20_1624377449_3x2_md.jpg  \n",
            "  inflating: fame-dataset-main/train/MerylStreep/5.meryl-streep.jpg  \n",
            "  inflating: fame-dataset-main/train/MerylStreep/6.meryl-book.jpg  \n",
            "  inflating: fame-dataset-main/train/MerylStreep/7.20180307-prn7-imax-meryl-streep-1yhigh.jpg  \n",
            "  inflating: fame-dataset-main/train/MerylStreep/8.meryl_streep_from_%22florence_foster_jenkins%22_at_opening_ceremony_of_the_tokyo_international_film_festival_2016_%2833644504135%29_%28cropped%29.jpg  \n",
            "  inflating: fame-dataset-main/train/MerylStreep/9.60c87c1d6d855e00181580f6-300x225.jpeg  \n",
            "   creating: fame-dataset-main/train/NicolasCage/\n",
            "  inflating: fame-dataset-main/train/NicolasCage/1.nicolas_cage_deauville_2013.jpg  \n",
            "  inflating: fame-dataset-main/train/NicolasCage/10.nicolas-cage-attends-the-german-sustainability-award-2016-at-maritim-picture-id625763258.jpg  \n",
            "  inflating: fame-dataset-main/train/NicolasCage/11.mw-860.jpg  \n",
            "  inflating: fame-dataset-main/train/NicolasCage/12.nicolas-cage-gq.jfif.jpg  \n",
            "  inflating: fame-dataset-main/train/NicolasCage/13.latest.jpg  \n",
            "  inflating: fame-dataset-main/train/NicolasCage/14.582462.jpg  \n",
            "  inflating: fame-dataset-main/train/NicolasCage/15.nicolas-cage-08160602136139.jpg  \n",
            "  inflating: fame-dataset-main/train/NicolasCage/16.gettyimages-109358284-2048x2048-1.jpg  \n",
            "  inflating: fame-dataset-main/train/NicolasCage/17.nicolas-cage-mafia-dos-tigres.jpg  \n",
            "  inflating: fame-dataset-main/train/NicolasCage/18.poltrona-con-air-cage-1140x570.jpg  \n",
            "  inflating: fame-dataset-main/train/NicolasCage/19.nicolas_cage_1.jpg_1159711837.jpg  \n",
            "  inflating: fame-dataset-main/train/NicolasCage/2.nicolas-cage.jpg  \n",
            "  inflating: fame-dataset-main/train/NicolasCage/20.nicolas-cage-supermajpg-25092020160857785.jpg  \n",
            "  inflating: fame-dataset-main/train/NicolasCage/3.mv5bmjuxmje4mtqxmf5bml5banbnxkftztcwnzc2mdm1na@@._v1_uy1200_cr125,0,630,1200_al_.jpg  \n",
            "  inflating: fame-dataset-main/train/NicolasCage/4.ll3kkovyqn5nfsmwte4j3md6me.jpg  \n",
            "  inflating: fame-dataset-main/train/NicolasCage/5.nicolas.-cage.jpg  \n",
            " extracting: fame-dataset-main/train/NicolasCage/6.1506015459431.jpg.webp  \n",
            "  inflating: fame-dataset-main/train/NicolasCage/7.582462.jpg  \n",
            "  inflating: fame-dataset-main/train/NicolasCage/8.nicolas-cage-1538429164195_v2_3x4.jpg  \n",
            "  inflating: fame-dataset-main/train/NicolasCage/9.nicolas_cage_nicolas_cage_split.jpg  \n",
            "   creating: fame-dataset-main/train/TomHanks/\n",
            "  inflating: fame-dataset-main/train/TomHanks/1.tom_hanks_tiff_2019.jpg  \n",
            "  inflating: fame-dataset-main/train/TomHanks/10.tom-hanks-29d69e8c39cd01d67c1a36d0a81674923d18577f.jpg  \n",
            "  inflating: fame-dataset-main/train/TomHanks/13.tomhanksjan2009_cropped.jpg  \n",
            "  inflating: fame-dataset-main/train/TomHanks/16.20180705-tom-hanks.jpg  \n",
            "  inflating: fame-dataset-main/train/TomHanks/17.tom-hanks-2-.jpg  \n",
            "  inflating: fame-dataset-main/train/TomHanks/2.latest.jpg  \n",
            "  inflating: fame-dataset-main/train/TomHanks/20.tom-hanks_56tb.200.jpg  \n",
            "  inflating: fame-dataset-main/train/TomHanks/22.tom-hanks-arrives-at-the-92nd-annual-academy-awards-at-hollywood-and-picture-id1205201930.jpg  \n",
            "  inflating: fame-dataset-main/train/TomHanks/23.tom-hanks-890x466.jpg  \n",
            "  inflating: fame-dataset-main/train/TomHanks/3.size_960_16_9_tom-hanks9.jpg  \n",
            "  inflating: fame-dataset-main/train/TomHanks/4.latest.jpg  \n",
            "  inflating: fame-dataset-main/train/TomHanks/5.tom_hanks_alberto_e.rodriguezgetty_images_widelg.jpg  \n",
            "  inflating: fame-dataset-main/train/TomHanks/7.gettyimages-1257937597.jpg  \n",
            "  inflating: fame-dataset-main/train/TomHanks/8.2705828868-tom-hanks-sai-de-mula-1024x684.jpg  \n",
            "  inflating: fame-dataset-main/train/TomHanks/9.actor-tom-hanks-attends-the-peoples-choice-awards-2017-at-microsoft-picture-id632013890.jpg  \n",
            "   creating: fame-dataset-main/val/\n",
            "   creating: fame-dataset-main/val/AlPacino/\n",
            "  inflating: fame-dataset-main/val/AlPacino/28.418b5fq5thl._sx331_bo1,204,203,200_.jpg  \n",
            "  inflating: fame-dataset-main/val/AlPacino/29.170b890398b65f31a730ea10a5e1b20a.jpg  \n",
            "   creating: fame-dataset-main/val/AngelinaJolie/\n",
            "  inflating: fame-dataset-main/val/AngelinaJolie/22.v1.jpg  \n",
            "  inflating: fame-dataset-main/val/AngelinaJolie/23.gettyimages-1347405116.jpg  \n",
            "  inflating: fame-dataset-main/val/AngelinaJolie/24.445231264-aj-gettyimages-1348655692socialmediawebusagerightsexpire24042022-scaled-e1635171827163.jpg  \n",
            "   creating: fame-dataset-main/val/ClintEastwood/\n",
            "  inflating: fame-dataset-main/val/ClintEastwood/19.mh_interna_clint-eastwood-01.jpg  \n",
            "  inflating: fame-dataset-main/val/ClintEastwood/20.https%3a%2f%2fwww.melhoresfilmes.com.br%2fstorage%2fimgs%2fdirectors%2f136.jpg%3ft%3d20200325122805.jpg  \n",
            "  inflating: fame-dataset-main/val/ClintEastwood/21.71i3xex9aal.jpg  \n",
            "  inflating: fame-dataset-main/val/ClintEastwood/22.du35nnjz4agw5abije3wxvf3eey.jpg  \n",
            "  inflating: fame-dataset-main/val/ClintEastwood/23.clint-eastwood-key.jpg  \n",
            "  inflating: fame-dataset-main/val/ClintEastwood/24.clint-eastwood.jpg  \n",
            "  inflating: fame-dataset-main/val/ClintEastwood/25.cry-macho-clint-eastwood.jpg  \n",
            "  inflating: fame-dataset-main/val/ClintEastwood/26.61b2cl6cmfl.jpg  \n",
            "  inflating: fame-dataset-main/val/ClintEastwood/27.clinteastwood-1.jpg  \n",
            "  inflating: fame-dataset-main/val/ClintEastwood/29.gettyimages-1197347526.jpg  \n",
            "  inflating: fame-dataset-main/val/ClintEastwood/30.clindndnd_widelg.jpg  \n",
            "   creating: fame-dataset-main/val/EmilyBlunt/\n",
            "  inflating: fame-dataset-main/val/EmilyBlunt/25.emily-blunt.jpg  \n",
            "  inflating: fame-dataset-main/val/EmilyBlunt/28.1810981.jpg  \n",
            "  inflating: fame-dataset-main/val/EmilyBlunt/30.emily_blunt_grosby_group_336100_36.jpg  \n",
            "   creating: fame-dataset-main/val/KristenStewart/\n",
            "  inflating: fame-dataset-main/val/KristenStewart/18.atriz.jpg  \n",
            "  inflating: fame-dataset-main/val/KristenStewart/19.kristen-stewart-se-casou.jpg  \n",
            "  inflating: fame-dataset-main/val/KristenStewart/21.2411138.jpg  \n",
            "  inflating: fame-dataset-main/val/KristenStewart/22.kristen-stewart-troca-saltos-por-tenis-no-tapete-vermelho-132965-article.jpg  \n",
            "  inflating: fame-dataset-main/val/KristenStewart/23.156px-kristen_stewart.jpg  \n",
            "  inflating: fame-dataset-main/val/KristenStewart/25.image-w856.jpg  \n",
            "  inflating: fame-dataset-main/val/KristenStewart/26.ixmfr2xxkw5a54glahf5x5umiy.jpg  \n",
            "  inflating: fame-dataset-main/val/KristenStewart/27.latest.jpg  \n",
            "  inflating: fame-dataset-main/val/KristenStewart/28.kristen-stewart-2009-twilight-new-moon-normal5.4-e1543838561146-890x466.jpg  \n",
            "  inflating: fame-dataset-main/val/KristenStewart/29.kristen-stewart-jeremiah-terminator-leroy-premiere-toronto-2.jpg  \n",
            " extracting: fame-dataset-main/val/KristenStewart/30..jpg  \n",
            "   creating: fame-dataset-main/val/MerylStreep/\n",
            "  inflating: fame-dataset-main/val/MerylStreep/16.rs_634x1024-190625064046-634-meryl-streep-lt-062519-gettyimages-634994246.jpg  \n",
            "  inflating: fame-dataset-main/val/MerylStreep/17.19946660.jpg  \n",
            "  inflating: fame-dataset-main/val/MerylStreep/18.meryl-streep-miranda.jpg  \n",
            "  inflating: fame-dataset-main/val/MerylStreep/19.meryl-streep-0221-1400x800-3_0.jpg  \n",
            "  inflating: fame-dataset-main/val/MerylStreep/20.meryl-streep.jpeg  \n",
            "  inflating: fame-dataset-main/val/MerylStreep/21.1_pkuwklg5kklaj0ssojyifa.jpeg  \n",
            "  inflating: fame-dataset-main/val/MerylStreep/22.latest.jpg  \n",
            "  inflating: fame-dataset-main/val/MerylStreep/26.meryl-418x235.jpg  \n",
            "  inflating: fame-dataset-main/val/MerylStreep/27.streep-meryl-image.jpg  \n",
            "  inflating: fame-dataset-main/val/MerylStreep/29.top-6-des-roles-de-meryl-streep-1.jpg  \n",
            "  inflating: fame-dataset-main/val/MerylStreep/30.meryl-streep-papeis.jpg  \n",
            "   creating: fame-dataset-main/val/NicolasCage/\n",
            "  inflating: fame-dataset-main/val/NicolasCage/21.nicolas-cage-capa.jpg  \n",
            "  inflating: fame-dataset-main/val/NicolasCage/22.15780672325e0f652007026_1578067232_3x2_md.jpg  \n",
            "  inflating: fame-dataset-main/val/NicolasCage/23.212708-nicolas-cage-ganhou-seu-primeiro-neto-624x600-1.jpg  \n",
            "  inflating: fame-dataset-main/val/NicolasCage/24.nicolascage-faceoff-crazy-1210x544.jpg  \n",
            "  inflating: fame-dataset-main/val/NicolasCage/25.nicolas-cage.jpeg  \n",
            "  inflating: fame-dataset-main/val/NicolasCage/26.20180105-nicholascage1.jpg  \n",
            "  inflating: fame-dataset-main/val/NicolasCage/27.image.jpg  \n",
            "  inflating: fame-dataset-main/val/NicolasCage/28.actor-nicolas-cage-attends-the-special-screening-of-color-out-of-at-picture-id1199567621.jpg  \n",
            "  inflating: fame-dataset-main/val/NicolasCage/29.nicolas-cage-pig_sram.jpg  \n",
            "   creating: fame-dataset-main/val/TomHanks/\n",
            "  inflating: fame-dataset-main/val/TomHanks/25.05190618857480.jpg  \n",
            "  inflating: fame-dataset-main/val/TomHanks/26.1167635.jpg  \n",
            "  inflating: fame-dataset-main/val/TomHanks/27.tom-hanks-globo-de-ouro-2020-2487874.jpg  \n",
            "  inflating: fame-dataset-main/val/TomHanks/28.tom-hanks-apple.jpg  \n"
          ]
        }
      ]
    },
    {
      "cell_type": "markdown",
      "metadata": {
        "id": "BPAoPB5DTaMW"
      },
      "source": [
        "## Extração das faces do dataset, geração dos conjuntos de treinamento e validação\n",
        "\n",
        "\n"
      ]
    },
    {
      "cell_type": "code",
      "metadata": {
        "colab": {
          "base_uri": "https://localhost:8080/"
        },
        "id": "vrlN9tDuTXZ4",
        "outputId": "895aa756-4436-4e57-ef5d-5fd649b2d783"
      },
      "source": [
        "!pip install mtcnn"
      ],
      "execution_count": null,
      "outputs": [
        {
          "output_type": "stream",
          "name": "stdout",
          "text": [
            "Collecting mtcnn\n",
            "  Downloading mtcnn-0.1.1-py3-none-any.whl (2.3 MB)\n",
            "\u001b[K     |████████████████████████████████| 2.3 MB 4.9 MB/s \n",
            "\u001b[?25hRequirement already satisfied: opencv-python>=4.1.0 in /usr/local/lib/python3.7/dist-packages (from mtcnn) (4.1.2.30)\n",
            "Requirement already satisfied: keras>=2.0.0 in /usr/local/lib/python3.7/dist-packages (from mtcnn) (2.7.0)\n",
            "Requirement already satisfied: numpy>=1.14.5 in /usr/local/lib/python3.7/dist-packages (from opencv-python>=4.1.0->mtcnn) (1.19.5)\n",
            "Installing collected packages: mtcnn\n",
            "Successfully installed mtcnn-0.1.1\n"
          ]
        }
      ]
    },
    {
      "cell_type": "code",
      "metadata": {
        "id": "rNsoM-YNeIuP"
      },
      "source": [
        "# face detection for the 5 Celebrity Faces Dataset\n",
        "from os import listdir\n",
        "from os.path import isdir\n",
        "from PIL import Image\n",
        "from matplotlib import pyplot\n",
        "from numpy import savez_compressed\n",
        "from numpy import asarray\n",
        "import mtcnn\n",
        "\n",
        "# extract a single face from a given photograph\n",
        "def extract_face(filename, required_size=(224, 224)):\n",
        "\t# load image from file\n",
        "\timage = Image.open(filename)\n",
        "\t# convert to RGB, if needed\n",
        "\timage = image.convert('RGB')\n",
        "\t# convert to array\n",
        "\tpixels = asarray(image)\n",
        "\t# create the detector, using default weights\n",
        "\tdetector = mtcnn.MTCNN()\n",
        "\t# detect faces in the image\n",
        "\tresults = detector.detect_faces(pixels)\n",
        "\t# extract the bounding box from the first face\n",
        "\tx1, y1, width, height = results[0]['box']\n",
        "\t# bug fix\n",
        "\tx1, y1 = abs(x1), abs(y1)\n",
        "\tx2, y2 = x1 + width, y1 + height\n",
        "\t# extract the face\n",
        "\tface = pixels[y1:y2, x1:x2]\n",
        "\t# resize pixels to the model size\n",
        "\timage = Image.fromarray(face)\n",
        "\timage = image.resize(required_size)\n",
        "\tface_array = asarray(image)\n",
        "\treturn face_array\n",
        "\n",
        "# load images and extract faces for all images in a directory\n",
        "def load_faces(directory):\n",
        "\tfaces = list()\n",
        "\t# enumerate files\n",
        "\tfor filename in listdir(directory):\n",
        "\t\t# path\n",
        "\t\tpath = directory + filename\n",
        "\t\t# get face\n",
        "\t\tface = extract_face(path, (224,224))\n",
        "\t\t# store\n",
        "\t\tfaces.append(face)\n",
        "\treturn faces\n",
        "\n",
        "# load a dataset that contains one subdir for each class that in turn contains images\n",
        "def load_dataset(directory):\n",
        "\tX, y = list(), list()\n",
        "\t# enumerate folders, on per class\n",
        "\tfor subdir in listdir(directory):\n",
        "\t\t# path\n",
        "\t\tpath = directory + subdir + '/'\n",
        "\t\t# skip any files that might be in the dir\n",
        "\t\tif not isdir(path):\n",
        "\t\t\tcontinue\n",
        "\t\t# load all faces in the subdirectory\n",
        "\t\tfaces = load_faces(path)\n",
        "\t\t# create labels\n",
        "\t\tlabels = [subdir for _ in range(len(faces))]\n",
        "\t\t# summarize progress\n",
        "\t\tprint('>loaded %d examples for class: %s' % (len(faces), subdir))\n",
        "\t\t# store\n",
        "\t\tX.extend(faces)\n",
        "\t\ty.extend(labels)\n",
        "\treturn asarray(X), asarray(y)\n",
        "\n"
      ],
      "execution_count": null,
      "outputs": []
    },
    {
      "cell_type": "code",
      "metadata": {
        "colab": {
          "base_uri": "https://localhost:8080/"
        },
        "id": "OYpCWAmhePGI",
        "outputId": "dcb6cb39-0864-4629-9c5f-451b449fe39b"
      },
      "source": [
        "# load train dataset\n",
        "trainX, trainy = load_dataset('/content/fame-dataset-main/train/')\n",
        "print(trainX.shape, trainy.shape)\n",
        "# load test dataset\n",
        "testX, testy = load_dataset('/content/fame-dataset-main/val/')\n",
        "# save arrays to one file in compressed format\n",
        "savez_compressed('fame-faces-dataset.npz', trainX, trainy, testX, testy)"
      ],
      "execution_count": null,
      "outputs": [
        {
          "output_type": "stream",
          "name": "stdout",
          "text": [
            "WARNING:tensorflow:5 out of the last 13 calls to <function Model.make_predict_function.<locals>.predict_function at 0x7efc8560b680> triggered tf.function retracing. Tracing is expensive and the excessive number of tracings could be due to (1) creating @tf.function repeatedly in a loop, (2) passing tensors with different shapes, (3) passing Python objects instead of tensors. For (1), please define your @tf.function outside of the loop. For (2), @tf.function has experimental_relax_shapes=True option that relaxes argument shapes that can avoid unnecessary retracing. For (3), please refer to https://www.tensorflow.org/guide/function#controlling_retracing and https://www.tensorflow.org/api_docs/python/tf/function for  more details.\n",
            "WARNING:tensorflow:6 out of the last 14 calls to <function Model.make_predict_function.<locals>.predict_function at 0x7efc8560b680> triggered tf.function retracing. Tracing is expensive and the excessive number of tracings could be due to (1) creating @tf.function repeatedly in a loop, (2) passing tensors with different shapes, (3) passing Python objects instead of tensors. For (1), please define your @tf.function outside of the loop. For (2), @tf.function has experimental_relax_shapes=True option that relaxes argument shapes that can avoid unnecessary retracing. For (3), please refer to https://www.tensorflow.org/guide/function#controlling_retracing and https://www.tensorflow.org/api_docs/python/tf/function for  more details.\n",
            ">loaded 15 examples for class: EmilyBlunt\n",
            ">loaded 15 examples for class: ClintEastwood\n",
            ">loaded 15 examples for class: TomHanks\n",
            ">loaded 15 examples for class: AlPacino\n",
            ">loaded 15 examples for class: KristenStewart\n",
            ">loaded 15 examples for class: MerylStreep\n",
            ">loaded 20 examples for class: NicolasCage\n",
            ">loaded 15 examples for class: AngelinaJolie\n",
            "(125, 224, 224, 3) (125,)\n",
            ">loaded 3 examples for class: EmilyBlunt\n",
            ">loaded 11 examples for class: ClintEastwood\n",
            ">loaded 4 examples for class: TomHanks\n",
            ">loaded 2 examples for class: AlPacino\n",
            ">loaded 11 examples for class: KristenStewart\n",
            ">loaded 11 examples for class: MerylStreep\n",
            ">loaded 9 examples for class: NicolasCage\n",
            ">loaded 3 examples for class: AngelinaJolie\n"
          ]
        }
      ]
    },
    {
      "cell_type": "markdown",
      "metadata": {
        "id": "8KkXUY-4T7jl"
      },
      "source": [
        "## Instação do VGGFACE"
      ]
    },
    {
      "cell_type": "code",
      "metadata": {
        "colab": {
          "base_uri": "https://localhost:8080/"
        },
        "id": "6TYwnrM6wsHy",
        "outputId": "d4ee867f-1b2d-41d4-8735-281df8040e62"
      },
      "source": [
        "\n",
        "\n",
        "!pip install git+https://github.com/jsansao/keras-vggface.git\n",
        "!pip install keras_applications\n",
        "\n"
      ],
      "execution_count": null,
      "outputs": [
        {
          "output_type": "stream",
          "name": "stdout",
          "text": [
            "Collecting git+https://github.com/jsansao/keras-vggface.git\n",
            "  Cloning https://github.com/jsansao/keras-vggface.git to /tmp/pip-req-build-97goyo0i\n",
            "  Running command git clone -q https://github.com/jsansao/keras-vggface.git /tmp/pip-req-build-97goyo0i\n",
            "Requirement already satisfied: numpy>=1.9.1 in /usr/local/lib/python3.7/dist-packages (from keras-vggface==0.6) (1.19.5)\n",
            "Requirement already satisfied: scipy>=0.14 in /usr/local/lib/python3.7/dist-packages (from keras-vggface==0.6) (1.4.1)\n",
            "Requirement already satisfied: h5py in /usr/local/lib/python3.7/dist-packages (from keras-vggface==0.6) (3.1.0)\n",
            "Requirement already satisfied: pillow in /usr/local/lib/python3.7/dist-packages (from keras-vggface==0.6) (7.1.2)\n",
            "Requirement already satisfied: keras in /usr/local/lib/python3.7/dist-packages (from keras-vggface==0.6) (2.7.0)\n",
            "Requirement already satisfied: six>=1.9.0 in /usr/local/lib/python3.7/dist-packages (from keras-vggface==0.6) (1.15.0)\n",
            "Requirement already satisfied: pyyaml in /usr/local/lib/python3.7/dist-packages (from keras-vggface==0.6) (3.13)\n",
            "Requirement already satisfied: cached-property in /usr/local/lib/python3.7/dist-packages (from h5py->keras-vggface==0.6) (1.5.2)\n",
            "Building wheels for collected packages: keras-vggface\n",
            "  Building wheel for keras-vggface (setup.py) ... \u001b[?25l\u001b[?25hdone\n",
            "  Created wheel for keras-vggface: filename=keras_vggface-0.6-py3-none-any.whl size=8315 sha256=1aa9c169f8e1049899dd6bde0df29ac43304c7c33042df65c6db1797a9c7df9e\n",
            "  Stored in directory: /tmp/pip-ephem-wheel-cache-46kgvahd/wheels/17/1d/de/3357313e72504b373dcd31226714c9477da009000aeb307586\n",
            "Successfully built keras-vggface\n",
            "Installing collected packages: keras-vggface\n",
            "Successfully installed keras-vggface-0.6\n",
            "Collecting keras_applications\n",
            "  Downloading Keras_Applications-1.0.8-py3-none-any.whl (50 kB)\n",
            "\u001b[K     |████████████████████████████████| 50 kB 3.0 MB/s \n",
            "\u001b[?25hRequirement already satisfied: h5py in /usr/local/lib/python3.7/dist-packages (from keras_applications) (3.1.0)\n",
            "Requirement already satisfied: numpy>=1.9.1 in /usr/local/lib/python3.7/dist-packages (from keras_applications) (1.19.5)\n",
            "Requirement already satisfied: cached-property in /usr/local/lib/python3.7/dist-packages (from h5py->keras_applications) (1.5.2)\n",
            "Installing collected packages: keras-applications\n",
            "Successfully installed keras-applications-1.0.8\n"
          ]
        }
      ]
    },
    {
      "cell_type": "code",
      "metadata": {
        "id": "QPECmJTFw4r8"
      },
      "source": [
        "\n",
        "\n",
        "from numpy import expand_dims\n",
        "from matplotlib import pyplot\n",
        "from PIL import Image\n",
        "from numpy import asarray\n",
        "\n",
        "import mtcnn\n",
        "from keras.utils.layer_utils import get_source_inputs\n",
        "\n",
        "from keras_vggface.vggface import VGGFace\n",
        "from keras_vggface.utils import preprocess_input\n",
        "from keras_vggface.utils import decode_predictions\n",
        "\n"
      ],
      "execution_count": null,
      "outputs": []
    },
    {
      "cell_type": "markdown",
      "metadata": {
        "id": "RyWcpNR8UAIp"
      },
      "source": [
        "## Carregamento do modelo pré-treinado, sem camadas de saída"
      ]
    },
    {
      "cell_type": "code",
      "metadata": {
        "colab": {
          "base_uri": "https://localhost:8080/"
        },
        "id": "WH9ADxk4w_Ln",
        "outputId": "1a35ad10-78ee-4aa5-e29f-b0b98237de60"
      },
      "source": [
        "model = VGGFace(model='resnet50', include_top=False, input_shape=(224, 224, 3), pooling='avg')"
      ],
      "execution_count": null,
      "outputs": [
        {
          "output_type": "stream",
          "name": "stdout",
          "text": [
            "Downloading data from https://github.com/rcmalli/keras-vggface/releases/download/v2.0/rcmalli_vggface_tf_notop_resnet50.h5\n",
            "94699520/94694792 [==============================] - 1s 0us/step\n",
            "94707712/94694792 [==============================] - 1s 0us/step\n"
          ]
        }
      ]
    },
    {
      "cell_type": "markdown",
      "metadata": {
        "id": "Is16aiLpUH3I"
      },
      "source": [
        "## Extração dos embeddings "
      ]
    },
    {
      "cell_type": "code",
      "metadata": {
        "id": "BC6etA-4xLRb"
      },
      "source": [
        "# get the face embedding for one face\n",
        "def get_embedding(model, face_pixels):\n",
        "\t# scale pixel values\n",
        "  samples = face_pixels.astype('float32')\n",
        "  samples = expand_dims(samples, axis=0)\n",
        "  samples = preprocess_input(samples, version=2)\n",
        "  # transform face into one sample\n",
        "  # make prediction to get embedding\n",
        "  yhat = model.predict(samples)\n",
        "  return yhat[0]"
      ],
      "execution_count": null,
      "outputs": []
    },
    {
      "cell_type": "code",
      "metadata": {
        "colab": {
          "base_uri": "https://localhost:8080/"
        },
        "id": "_I89jsWSxpnP",
        "outputId": "8fdafbc3-00c2-41f8-cea4-4a9ca6322ccc"
      },
      "source": [
        "# convert each face in the train set to an embedding\n",
        "newTrainX = list()\n",
        "for face_pixels in trainX:\n",
        "\tembedding = get_embedding(model, face_pixels)\n",
        "\tnewTrainX.append(embedding)\n",
        "newTrainX = asarray(newTrainX)\n",
        "print(newTrainX.shape)\n",
        "# convert each face in the test set to an embedding\n",
        "newTestX = list()\n",
        "for face_pixels in testX:\n",
        "\tembedding = get_embedding(model, face_pixels)\n",
        "\tnewTestX.append(embedding)\n",
        "newTestX = asarray(newTestX)\n",
        "print(newTestX.shape)"
      ],
      "execution_count": null,
      "outputs": [
        {
          "output_type": "stream",
          "name": "stdout",
          "text": [
            "(125, 2048)\n",
            "(54, 2048)\n"
          ]
        }
      ]
    },
    {
      "cell_type": "code",
      "metadata": {
        "id": "WSnIwzt_1cOt"
      },
      "source": [
        "savez_compressed('fame-faces-embeddings.npz', newTrainX, trainy, newTestX, testy)"
      ],
      "execution_count": null,
      "outputs": []
    },
    {
      "cell_type": "markdown",
      "metadata": {
        "id": "1xiYsW0STK7K"
      },
      "source": [
        "## Classificação dos embeddings com SVM "
      ]
    },
    {
      "cell_type": "code",
      "metadata": {
        "colab": {
          "base_uri": "https://localhost:8080/"
        },
        "id": "L2zCc9gN1jLv",
        "outputId": "86359aaa-ce9b-460e-d534-9e1cadd52984"
      },
      "source": [
        "\n",
        "# develop a classifier for the 5 Celebrity Faces Dataset\n",
        "from numpy import load\n",
        "from sklearn.metrics import accuracy_score\n",
        "from sklearn.preprocessing import LabelEncoder\n",
        "from sklearn.preprocessing import Normalizer\n",
        "from sklearn.svm import SVC\n",
        "# load dataset\n",
        "data = load('fame-faces-embeddings.npz')\n",
        "trainX, trainy, testX, testy = data['arr_0'], data['arr_1'], data['arr_2'], data['arr_3']\n",
        "print('Dataset: train=%d, test=%d' % (trainX.shape[0], testX.shape[0]))\n",
        "# normalize input vectors\n",
        "in_encoder = Normalizer(norm='l2')\n",
        "trainX = in_encoder.transform(trainX)\n",
        "testX = in_encoder.transform(testX)\n",
        "# label encode targets\n",
        "out_encoder = LabelEncoder()\n",
        "out_encoder.fit(trainy)\n",
        "trainy = out_encoder.transform(trainy)\n",
        "testy = out_encoder.transform(testy)\n",
        "# fit model\n",
        "model = SVC(kernel='linear', probability=True)\n",
        "model.fit(trainX, trainy)\n",
        "# predict\n",
        "yhat_train = model.predict(trainX)\n",
        "yhat_test = model.predict(testX)\n",
        "# score\n",
        "score_train = accuracy_score(trainy, yhat_train)\n",
        "score_test = accuracy_score(testy, yhat_test)\n",
        "# summarize\n",
        "print('Accuracy: train=%.3f, test=%.3f' % (score_train*100, score_test*100))"
      ],
      "execution_count": null,
      "outputs": [
        {
          "output_type": "stream",
          "name": "stdout",
          "text": [
            "Dataset: train=125, test=54\n",
            "Accuracy: train=100.000, test=100.000\n"
          ]
        }
      ]
    },
    {
      "cell_type": "markdown",
      "metadata": {
        "id": "ckGOq1Il4xzp"
      },
      "source": [
        "## Teste do classificador SVM"
      ]
    },
    {
      "cell_type": "code",
      "metadata": {
        "colab": {
          "resources": {
            "http://localhost:8080/nbextensions/google.colab/files.js": {
              "data": "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",
              "ok": true,
              "headers": [
                [
                  "content-type",
                  "application/javascript"
                ]
              ],
              "status": 200,
              "status_text": "OK"
            }
          },
          "base_uri": "https://localhost:8080/",
          "height": 96
        },
        "id": "8XIY_ECb4rcj",
        "outputId": "d00d1269-de3e-4009-efe4-4e99b91c2066"
      },
      "source": [
        "from google.colab import files\n",
        "\n",
        "uploaded = files.upload()\n",
        "\n",
        "for fn in uploaded.keys():\n",
        "  print('User uploaded file \"{name}\" with length {length} bytes'.format(\n",
        "      name=fn, length=len(uploaded[fn])))"
      ],
      "execution_count": null,
      "outputs": [
        {
          "output_type": "display_data",
          "data": {
            "text/html": [
              "\n",
              "     <input type=\"file\" id=\"files-faa76376-836d-44ba-8fcb-40863cafad4f\" name=\"files[]\" multiple disabled\n",
              "        style=\"border:none\" />\n",
              "     <output id=\"result-faa76376-836d-44ba-8fcb-40863cafad4f\">\n",
              "      Upload widget is only available when the cell has been executed in the\n",
              "      current browser session. Please rerun this cell to enable.\n",
              "      </output>\n",
              "      <script src=\"/nbextensions/google.colab/files.js\"></script> "
            ],
            "text/plain": [
              "<IPython.core.display.HTML object>"
            ]
          },
          "metadata": {}
        },
        {
          "output_type": "stream",
          "name": "stdout",
          "text": [
            "Saving 26.ixmfr2xxkw5a54glahf5x5umiy.jpg to 26.ixmfr2xxkw5a54glahf5x5umiy.jpg\n",
            "User uploaded file \"26.ixmfr2xxkw5a54glahf5x5umiy.jpg\" with length 16912 bytes\n"
          ]
        }
      ]
    },
    {
      "cell_type": "code",
      "metadata": {
        "colab": {
          "base_uri": "https://localhost:8080/",
          "height": 281
        },
        "id": "B8LIoZRd4uEz",
        "outputId": "58eec7b7-80a4-49b1-bbda-71182cfcce90"
      },
      "source": [
        "for fn in uploaded.keys():\n",
        "  face_t = extract_face(fn)\n",
        "  model_t = VGGFace(model='resnet50', include_top=False, input_shape=(224, 224, 3), pooling='avg')\n",
        "  embedded_t = get_embedding(model_t, face_t)\n",
        "  embe_in = embedded_t.reshape(-1,2048)\n",
        "  yhat_test = model.predict(embe_in)\n",
        "  saida = out_encoder.inverse_transform(yhat_test)\n",
        "  pyplot.imshow(face_t)\n",
        "  pyplot.title(saida[0])\n",
        "  pyplot.show()\n",
        "  "
      ],
      "execution_count": null,
      "outputs": [
        {
          "output_type": "display_data",
          "data": {
            "image/png": "[encoded data removed]",
            "text/plain": [
              "<Figure size 432x288 with 1 Axes>"
            ]
          },
          "metadata": {
            "needs_background": "light"
          }
        }
      ]
    }
  ]
}